{
 "cells": [
  {
   "cell_type": "markdown",
   "metadata": {
    "id": "dUeKVCYTbcyT"
   },
   "source": [
    "## reference: https://www.tensorflow.org/tutorials/structured_data/imbalanced_data"
   ]
  },
  {
   "cell_type": "markdown",
   "metadata": {
    "id": "7JfLUlawto_D"
   },
   "source": [
    "# Classification on imbalanced data"
   ]
  },
  {
   "cell_type": "markdown",
   "metadata": {
    "id": "mthoSGBAOoX-"
   },
   "source": [
    "This tutorial demonstrates how to classify a highly imbalanced dataset in which the number of examples in one class greatly outnumbers the examples in another. You will work with the [Credit Card Fraud Detection](https://www.kaggle.com/mlg-ulb/creditcardfraud) dataset hosted on Kaggle. The aim is to detect a mere 492 fraudulent transactions from 284,807 transactions in total. You will use [Keras](https://www.tensorflow.org/guide/keras/overview) to define the model and [class weights](https://www.tensorflow.org/versions/r2.0/api_docs/python/tf/keras/Model) to help the model learn from the imbalanced data. .\n",
    "\n",
    "This tutorial contains complete code to:\n",
    "\n",
    "* Load a CSV file using Pandas.\n",
    "* Create train, validation, and test sets.\n",
    "* Define and train a model using Keras (including setting class weights).\n",
    "* Evaluate the model using various metrics (including precision and recall).\n",
    "* Try common techniques for dealing with imbalanced data like:\n",
    "    * Class weighting\n"
   ]
  },
  {
   "cell_type": "markdown",
   "metadata": {
    "id": "kRHmSyHxEIhN"
   },
   "source": [
    "## Setup"
   ]
  },
  {
   "cell_type": "markdown",
   "metadata": {
    "id": "9RiW2y75A67q"
   },
   "source": []
  },
  {
   "cell_type": "code",
   "execution_count": 2,
   "metadata": {
    "execution": {
     "iopub.execute_input": "2022-12-14T02:48:08.433100Z",
     "iopub.status.busy": "2022-12-14T02:48:08.432448Z",
     "iopub.status.idle": "2022-12-14T02:48:11.111980Z",
     "shell.execute_reply": "2022-12-14T02:48:11.111172Z"
    },
    "executionInfo": {
     "elapsed": 279,
     "status": "ok",
     "timestamp": 1689082553325,
     "user": {
      "displayName": "Minjung Kwon",
      "userId": "05819400405449765661"
     },
     "user_tz": -540
    },
    "id": "JM7hDSNClfoK"
   },
   "outputs": [
    {
     "ename": "ImportError",
     "evalue": "cannot import name 'artist' from 'matplotlib' (C:\\Users\\gredi\\AppData\\Roaming\\Python\\Python39\\site-packages\\matplotlib\\__init__.py)",
     "output_type": "error",
     "traceback": [
      "\u001b[1;31m---------------------------------------------------------------------------\u001b[0m",
      "\u001b[1;31mImportError\u001b[0m                               Traceback (most recent call last)",
      "Input \u001b[1;32mIn [2]\u001b[0m, in \u001b[0;36m<cell line: 9>\u001b[1;34m()\u001b[0m\n\u001b[0;32m      6\u001b[0m \u001b[38;5;28;01mimport\u001b[39;00m \u001b[38;5;21;01mpickle\u001b[39;00m\n\u001b[0;32m      8\u001b[0m \u001b[38;5;66;03m#import matplotlib as mpl\u001b[39;00m\n\u001b[1;32m----> 9\u001b[0m \u001b[38;5;28;01mimport\u001b[39;00m \u001b[38;5;21;01mmatplotlib\u001b[39;00m\u001b[38;5;21;01m.\u001b[39;00m\u001b[38;5;21;01mpyplot\u001b[39;00m \u001b[38;5;28;01mas\u001b[39;00m \u001b[38;5;21;01mplt\u001b[39;00m\n\u001b[0;32m     10\u001b[0m \u001b[38;5;28;01mimport\u001b[39;00m \u001b[38;5;21;01mnumpy\u001b[39;00m \u001b[38;5;28;01mas\u001b[39;00m \u001b[38;5;21;01mnp\u001b[39;00m\n\u001b[0;32m     11\u001b[0m \u001b[38;5;28;01mimport\u001b[39;00m \u001b[38;5;21;01mpandas\u001b[39;00m \u001b[38;5;28;01mas\u001b[39;00m \u001b[38;5;21;01mpd\u001b[39;00m\n",
      "File \u001b[1;32m~\\AppData\\Roaming\\Python\\Python39\\site-packages\\matplotlib\\pyplot.py:49\u001b[0m, in \u001b[0;36m<module>\u001b[1;34m\u001b[0m\n\u001b[0;32m     47\u001b[0m \u001b[38;5;28;01mfrom\u001b[39;00m \u001b[38;5;21;01mcycler\u001b[39;00m \u001b[38;5;28;01mimport\u001b[39;00m cycler\n\u001b[0;32m     48\u001b[0m \u001b[38;5;28;01mimport\u001b[39;00m \u001b[38;5;21;01mmatplotlib\u001b[39;00m\n\u001b[1;32m---> 49\u001b[0m \u001b[38;5;28;01mimport\u001b[39;00m \u001b[38;5;21;01mmatplotlib\u001b[39;00m\u001b[38;5;21;01m.\u001b[39;00m\u001b[38;5;21;01mcolorbar\u001b[39;00m\n\u001b[0;32m     50\u001b[0m \u001b[38;5;28;01mimport\u001b[39;00m \u001b[38;5;21;01mmatplotlib\u001b[39;00m\u001b[38;5;21;01m.\u001b[39;00m\u001b[38;5;21;01mimage\u001b[39;00m\n\u001b[0;32m     51\u001b[0m \u001b[38;5;28;01mfrom\u001b[39;00m \u001b[38;5;21;01mmatplotlib\u001b[39;00m \u001b[38;5;28;01mimport\u001b[39;00m _api\n",
      "File \u001b[1;32m~\\AppData\\Roaming\\Python\\Python39\\site-packages\\matplotlib\\colorbar.py:21\u001b[0m, in \u001b[0;36m<module>\u001b[1;34m\u001b[0m\n\u001b[0;32m     18\u001b[0m \u001b[38;5;28;01mimport\u001b[39;00m \u001b[38;5;21;01mnumpy\u001b[39;00m \u001b[38;5;28;01mas\u001b[39;00m \u001b[38;5;21;01mnp\u001b[39;00m\n\u001b[0;32m     20\u001b[0m \u001b[38;5;28;01mimport\u001b[39;00m \u001b[38;5;21;01mmatplotlib\u001b[39;00m \u001b[38;5;28;01mas\u001b[39;00m \u001b[38;5;21;01mmpl\u001b[39;00m\n\u001b[1;32m---> 21\u001b[0m \u001b[38;5;28;01mfrom\u001b[39;00m \u001b[38;5;21;01mmatplotlib\u001b[39;00m \u001b[38;5;28;01mimport\u001b[39;00m _api, collections, cm, colors, contour, ticker\n\u001b[0;32m     22\u001b[0m \u001b[38;5;28;01mimport\u001b[39;00m \u001b[38;5;21;01mmatplotlib\u001b[39;00m\u001b[38;5;21;01m.\u001b[39;00m\u001b[38;5;21;01martist\u001b[39;00m \u001b[38;5;28;01mas\u001b[39;00m \u001b[38;5;21;01mmartist\u001b[39;00m\n\u001b[0;32m     23\u001b[0m \u001b[38;5;28;01mimport\u001b[39;00m \u001b[38;5;21;01mmatplotlib\u001b[39;00m\u001b[38;5;21;01m.\u001b[39;00m\u001b[38;5;21;01mpatches\u001b[39;00m \u001b[38;5;28;01mas\u001b[39;00m \u001b[38;5;21;01mmpatches\u001b[39;00m\n",
      "File \u001b[1;32m~\\AppData\\Roaming\\Python\\Python39\\site-packages\\matplotlib\\collections.py:20\u001b[0m, in \u001b[0;36m<module>\u001b[1;34m\u001b[0m\n\u001b[0;32m     17\u001b[0m \u001b[38;5;28;01mimport\u001b[39;00m \u001b[38;5;21;01mnumpy\u001b[39;00m \u001b[38;5;28;01mas\u001b[39;00m \u001b[38;5;21;01mnp\u001b[39;00m\n\u001b[0;32m     19\u001b[0m \u001b[38;5;28;01mimport\u001b[39;00m \u001b[38;5;21;01mmatplotlib\u001b[39;00m \u001b[38;5;28;01mas\u001b[39;00m \u001b[38;5;21;01mmpl\u001b[39;00m\n\u001b[1;32m---> 20\u001b[0m \u001b[38;5;28;01mfrom\u001b[39;00m \u001b[38;5;21;01m.\u001b[39;00m \u001b[38;5;28;01mimport\u001b[39;00m (_api, _path, artist, cbook, cm, colors \u001b[38;5;28;01mas\u001b[39;00m mcolors, docstring,\n\u001b[0;32m     21\u001b[0m                hatch \u001b[38;5;28;01mas\u001b[39;00m mhatch, lines \u001b[38;5;28;01mas\u001b[39;00m mlines, path \u001b[38;5;28;01mas\u001b[39;00m mpath, transforms)\n\u001b[0;32m     22\u001b[0m \u001b[38;5;28;01mfrom\u001b[39;00m \u001b[38;5;21;01m.\u001b[39;00m\u001b[38;5;21;01m_enums\u001b[39;00m \u001b[38;5;28;01mimport\u001b[39;00m JoinStyle, CapStyle\n\u001b[0;32m     25\u001b[0m \u001b[38;5;66;03m# \"color\" is excluded; it is a compound setter, and its docstring differs\u001b[39;00m\n\u001b[0;32m     26\u001b[0m \u001b[38;5;66;03m# in LineCollection.\u001b[39;00m\n",
      "File \u001b[1;32m~\\AppData\\Roaming\\Python\\Python39\\site-packages\\matplotlib\\lines.py:11\u001b[0m, in \u001b[0;36m<module>\u001b[1;34m\u001b[0m\n\u001b[0;32m      8\u001b[0m \u001b[38;5;28;01mimport\u001b[39;00m \u001b[38;5;21;01mnumpy\u001b[39;00m \u001b[38;5;28;01mas\u001b[39;00m \u001b[38;5;21;01mnp\u001b[39;00m\n\u001b[0;32m     10\u001b[0m \u001b[38;5;28;01mimport\u001b[39;00m \u001b[38;5;21;01mmatplotlib\u001b[39;00m \u001b[38;5;28;01mas\u001b[39;00m \u001b[38;5;21;01mmpl\u001b[39;00m\n\u001b[1;32m---> 11\u001b[0m \u001b[38;5;28;01mfrom\u001b[39;00m \u001b[38;5;21;01m.\u001b[39;00m \u001b[38;5;28;01mimport\u001b[39;00m _api, artist, cbook, colors \u001b[38;5;28;01mas\u001b[39;00m mcolors, docstring, rcParams\n\u001b[0;32m     12\u001b[0m \u001b[38;5;28;01mfrom\u001b[39;00m \u001b[38;5;21;01m.\u001b[39;00m\u001b[38;5;21;01martist\u001b[39;00m \u001b[38;5;28;01mimport\u001b[39;00m Artist, allow_rasterization\n\u001b[0;32m     13\u001b[0m \u001b[38;5;28;01mfrom\u001b[39;00m \u001b[38;5;21;01m.\u001b[39;00m\u001b[38;5;21;01mcbook\u001b[39;00m \u001b[38;5;28;01mimport\u001b[39;00m (\n\u001b[0;32m     14\u001b[0m     _to_unmasked_float_array, ls_mapper, ls_mapper_r, STEP_LOOKUP_MAP)\n",
      "\u001b[1;31mImportError\u001b[0m: cannot import name 'artist' from 'matplotlib' (C:\\Users\\gredi\\AppData\\Roaming\\Python\\Python39\\site-packages\\matplotlib\\__init__.py)"
     ]
    }
   ],
   "source": [
    "import tensorflow as tf\n",
    "from tensorflow import keras\n",
    "\n",
    "import os\n",
    "import tempfile\n",
    "import pickle\n",
    "\n",
    "import matplotlib as mpl\n",
    "import matplotlib.pyplot as plt\n",
    "import numpy as np\n",
    "import pandas as pd\n",
    "import seaborn as sns\n",
    "\n",
    "import sklearn\n",
    "from sklearn.metrics import confusion_matrix\n",
    "from sklearn.model_selection import train_test_split\n",
    "from sklearn.preprocessing import StandardScaler\n",
    "\n",
    "from keras.utils.np_utils import to_categorical\n",
    "from tensorflow.keras.models import Sequential\n",
    "from tensorflow.keras.layers import Dense, LSTM, Dropout\n",
    "from tensorflow.keras.utils import to_categorical\n",
    "from tensorflow.keras.metrics import Recall, Precision"
   ]
  },
  {
   "cell_type": "code",
   "execution_count": 44,
   "metadata": {
    "execution": {
     "iopub.execute_input": "2022-12-14T02:48:11.116434Z",
     "iopub.status.busy": "2022-12-14T02:48:11.115763Z",
     "iopub.status.idle": "2022-12-14T02:48:11.119323Z",
     "shell.execute_reply": "2022-12-14T02:48:11.118758Z"
    },
    "executionInfo": {
     "elapsed": 442,
     "status": "ok",
     "timestamp": 1689082554190,
     "user": {
      "displayName": "Minjung Kwon",
      "userId": "05819400405449765661"
     },
     "user_tz": -540
    },
    "id": "c8o1FHzD-_y_"
   },
   "outputs": [],
   "source": [
    "mpl.rcParams['figure.figsize'] = (12, 10)\n",
    "colors = plt.rcParams['axes.prop_cycle'].by_key()['color']"
   ]
  },
  {
   "cell_type": "markdown",
   "metadata": {
    "id": "Z3iZVjziKHmX"
   },
   "source": [
    "## Data processing and exploration"
   ]
  },
  {
   "cell_type": "markdown",
   "metadata": {
    "id": "4sA9WOcmzH2D"
   },
   "source": [
    "### Download the Kaggle Credit Card Fraud data set\n",
    "\n",
    "Pandas is a Python library with many helpful utilities for loading and working with structured data. It can be used to download CSVs into a Pandas [DataFrame](https://pandas.pydata.org/docs/reference/api/pandas.DataFrame.html#pandas.DataFrame).\n",
    "\n",
    "Note: This dataset has been collected and analysed during a research collaboration of Worldline and the [Machine Learning Group](http://mlg.ulb.ac.be) of ULB (Université Libre de Bruxelles) on big data mining and fraud detection. More details on current and past projects on related topics are available [here](https://www.researchgate.net/project/Fraud-detection-5) and the page of the [DefeatFraud](https://mlg.ulb.ac.be/wordpress/portfolio_page/defeatfraud-assessment-and-validation-of-deep-feature-engineering-and-learning-solutions-for-fraud-detection/) project"
   ]
  },
  {
   "cell_type": "code",
   "execution_count": 45,
   "metadata": {
    "colab": {
     "base_uri": "https://localhost:8080/",
     "height": 436
    },
    "execution": {
     "iopub.execute_input": "2022-12-14T02:48:11.122819Z",
     "iopub.status.busy": "2022-12-14T02:48:11.122318Z",
     "iopub.status.idle": "2022-12-14T02:48:13.689910Z",
     "shell.execute_reply": "2022-12-14T02:48:13.689079Z"
    },
    "executionInfo": {
     "elapsed": 2212,
     "status": "ok",
     "timestamp": 1689082556397,
     "user": {
      "displayName": "Minjung Kwon",
      "userId": "05819400405449765661"
     },
     "user_tz": -540
    },
    "id": "pR_SnbMArXr7",
    "outputId": "40987734-d6cc-4ad5-e246-49783a331620"
   },
   "outputs": [
    {
     "name": "stdout",
     "output_type": "stream",
     "text": [
      "Drive already mounted at /content/drive; to attempt to forcibly remount, call drive.mount(\"/content/drive\", force_remount=True).\n"
     ]
    },
    {
     "data": {
      "text/html": [
       "\n",
       "\n",
       "  <div id=\"df-43c66896-486c-4ce9-98a4-be83aad94ca0\">\n",
       "    <div class=\"colab-df-container\">\n",
       "      <div>\n",
       "<style scoped>\n",
       "    .dataframe tbody tr th:only-of-type {\n",
       "        vertical-align: middle;\n",
       "    }\n",
       "\n",
       "    .dataframe tbody tr th {\n",
       "        vertical-align: top;\n",
       "    }\n",
       "\n",
       "    .dataframe thead th {\n",
       "        text-align: right;\n",
       "    }\n",
       "</style>\n",
       "<table border=\"1\" class=\"dataframe\">\n",
       "  <thead>\n",
       "    <tr style=\"text-align: right;\">\n",
       "      <th></th>\n",
       "      <th>BNBUCT02</th>\n",
       "      <th>BNEMTE02</th>\n",
       "      <th>BNODTE02</th>\n",
       "      <th>BNRMTE02</th>\n",
       "      <th>BSCICP02</th>\n",
       "      <th>BSCURT02</th>\n",
       "      <th>BSEMFT02</th>\n",
       "      <th>BSOBLV02</th>\n",
       "      <th>BSOITE02</th>\n",
       "      <th>BSPRTE02</th>\n",
       "      <th>...</th>\n",
       "      <th>BBBOASPREAD</th>\n",
       "      <th>SP500</th>\n",
       "      <th>WTI</th>\n",
       "      <th>W875RX1</th>\n",
       "      <th>VIXCLS</th>\n",
       "      <th>RECPROUSM156N</th>\n",
       "      <th>DXY</th>\n",
       "      <th>y_nber</th>\n",
       "      <th>y_oecd</th>\n",
       "      <th>y_agg</th>\n",
       "    </tr>\n",
       "    <tr>\n",
       "      <th>date</th>\n",
       "      <th></th>\n",
       "      <th></th>\n",
       "      <th></th>\n",
       "      <th></th>\n",
       "      <th></th>\n",
       "      <th></th>\n",
       "      <th></th>\n",
       "      <th></th>\n",
       "      <th></th>\n",
       "      <th></th>\n",
       "      <th></th>\n",
       "      <th></th>\n",
       "      <th></th>\n",
       "      <th></th>\n",
       "      <th></th>\n",
       "      <th></th>\n",
       "      <th></th>\n",
       "      <th></th>\n",
       "      <th></th>\n",
       "      <th></th>\n",
       "      <th></th>\n",
       "    </tr>\n",
       "  </thead>\n",
       "  <tbody>\n",
       "    <tr>\n",
       "      <th>2023-02-01</th>\n",
       "      <td>NaN</td>\n",
       "      <td>NaN</td>\n",
       "      <td>NaN</td>\n",
       "      <td>NaN</td>\n",
       "      <td>-2.6</td>\n",
       "      <td>78.4</td>\n",
       "      <td>-1.488108</td>\n",
       "      <td>-10.0</td>\n",
       "      <td>-9.904271</td>\n",
       "      <td>-6.838155</td>\n",
       "      <td>...</td>\n",
       "      <td>1.55</td>\n",
       "      <td>3970.153442</td>\n",
       "      <td>76.83</td>\n",
       "      <td>14622.7</td>\n",
       "      <td>20.12</td>\n",
       "      <td>0.36</td>\n",
       "      <td>104.870003</td>\n",
       "      <td>0</td>\n",
       "      <td>0.0</td>\n",
       "      <td>0.0</td>\n",
       "    </tr>\n",
       "    <tr>\n",
       "      <th>2023-03-01</th>\n",
       "      <td>NaN</td>\n",
       "      <td>NaN</td>\n",
       "      <td>NaN</td>\n",
       "      <td>NaN</td>\n",
       "      <td>-3.7</td>\n",
       "      <td>77.8</td>\n",
       "      <td>-4.394159</td>\n",
       "      <td>-10.0</td>\n",
       "      <td>-11.664475</td>\n",
       "      <td>-4.339667</td>\n",
       "      <td>...</td>\n",
       "      <td>1.77</td>\n",
       "      <td>4109.312445</td>\n",
       "      <td>73.28</td>\n",
       "      <td>14664.3</td>\n",
       "      <td>21.64</td>\n",
       "      <td>0.32</td>\n",
       "      <td>102.510002</td>\n",
       "      <td>0</td>\n",
       "      <td>0.0</td>\n",
       "      <td>0.0</td>\n",
       "    </tr>\n",
       "    <tr>\n",
       "      <th>2023-04-01</th>\n",
       "      <td>NaN</td>\n",
       "      <td>NaN</td>\n",
       "      <td>NaN</td>\n",
       "      <td>NaN</td>\n",
       "      <td>-2.9</td>\n",
       "      <td>78.4</td>\n",
       "      <td>-0.707885</td>\n",
       "      <td>-11.0</td>\n",
       "      <td>-10.242475</td>\n",
       "      <td>-4.047127</td>\n",
       "      <td>...</td>\n",
       "      <td>1.73</td>\n",
       "      <td>4169.481401</td>\n",
       "      <td>79.45</td>\n",
       "      <td>14659.0</td>\n",
       "      <td>17.82</td>\n",
       "      <td>0.22</td>\n",
       "      <td>101.669998</td>\n",
       "      <td>0</td>\n",
       "      <td>0.0</td>\n",
       "      <td>0.0</td>\n",
       "    </tr>\n",
       "    <tr>\n",
       "      <th>2023-05-01</th>\n",
       "      <td>NaN</td>\n",
       "      <td>NaN</td>\n",
       "      <td>NaN</td>\n",
       "      <td>NaN</td>\n",
       "      <td>-3.1</td>\n",
       "      <td>78.4</td>\n",
       "      <td>2.680256</td>\n",
       "      <td>-13.0</td>\n",
       "      <td>-17.834084</td>\n",
       "      <td>1.060291</td>\n",
       "      <td>...</td>\n",
       "      <td>1.80</td>\n",
       "      <td>4179.825462</td>\n",
       "      <td>71.58</td>\n",
       "      <td>14702.7</td>\n",
       "      <td>17.64</td>\n",
       "      <td>0.62</td>\n",
       "      <td>104.320000</td>\n",
       "      <td>0</td>\n",
       "      <td>0.0</td>\n",
       "      <td>0.0</td>\n",
       "    </tr>\n",
       "    <tr>\n",
       "      <th>2023-06-01</th>\n",
       "      <td>NaN</td>\n",
       "      <td>NaN</td>\n",
       "      <td>NaN</td>\n",
       "      <td>NaN</td>\n",
       "      <td>-4.0</td>\n",
       "      <td>NaN</td>\n",
       "      <td>-5.300056</td>\n",
       "      <td>-9.0</td>\n",
       "      <td>-6.879287</td>\n",
       "      <td>-6.892674</td>\n",
       "      <td>...</td>\n",
       "      <td>1.69</td>\n",
       "      <td>4450.381312</td>\n",
       "      <td>68.11</td>\n",
       "      <td>NaN</td>\n",
       "      <td>14.00</td>\n",
       "      <td>NaN</td>\n",
       "      <td>102.910004</td>\n",
       "      <td>0</td>\n",
       "      <td>0.0</td>\n",
       "      <td>0.0</td>\n",
       "    </tr>\n",
       "  </tbody>\n",
       "</table>\n",
       "<p>5 rows × 73 columns</p>\n",
       "</div>\n",
       "      <button class=\"colab-df-convert\" onclick=\"convertToInteractive('df-43c66896-486c-4ce9-98a4-be83aad94ca0')\"\n",
       "              title=\"Convert this dataframe to an interactive table.\"\n",
       "              style=\"display:none;\">\n",
       "\n",
       "  <svg xmlns=\"http://www.w3.org/2000/svg\" height=\"24px\"viewBox=\"0 0 24 24\"\n",
       "       width=\"24px\">\n",
       "    <path d=\"M0 0h24v24H0V0z\" fill=\"none\"/>\n",
       "    <path d=\"M18.56 5.44l.94 2.06.94-2.06 2.06-.94-2.06-.94-.94-2.06-.94 2.06-2.06.94zm-11 1L8.5 8.5l.94-2.06 2.06-.94-2.06-.94L8.5 2.5l-.94 2.06-2.06.94zm10 10l.94 2.06.94-2.06 2.06-.94-2.06-.94-.94-2.06-.94 2.06-2.06.94z\"/><path d=\"M17.41 7.96l-1.37-1.37c-.4-.4-.92-.59-1.43-.59-.52 0-1.04.2-1.43.59L10.3 9.45l-7.72 7.72c-.78.78-.78 2.05 0 2.83L4 21.41c.39.39.9.59 1.41.59.51 0 1.02-.2 1.41-.59l7.78-7.78 2.81-2.81c.8-.78.8-2.07 0-2.86zM5.41 20L4 18.59l7.72-7.72 1.47 1.35L5.41 20z\"/>\n",
       "  </svg>\n",
       "      </button>\n",
       "\n",
       "\n",
       "\n",
       "    <div id=\"df-396e3df0-c860-49d1-8633-34d0fdc7ccc8\">\n",
       "      <button class=\"colab-df-quickchart\" onclick=\"quickchart('df-396e3df0-c860-49d1-8633-34d0fdc7ccc8')\"\n",
       "              title=\"Suggest charts.\"\n",
       "              style=\"display:none;\">\n",
       "\n",
       "<svg xmlns=\"http://www.w3.org/2000/svg\" height=\"24px\"viewBox=\"0 0 24 24\"\n",
       "     width=\"24px\">\n",
       "    <g>\n",
       "        <path d=\"M19 3H5c-1.1 0-2 .9-2 2v14c0 1.1.9 2 2 2h14c1.1 0 2-.9 2-2V5c0-1.1-.9-2-2-2zM9 17H7v-7h2v7zm4 0h-2V7h2v10zm4 0h-2v-4h2v4z\"/>\n",
       "    </g>\n",
       "</svg>\n",
       "      </button>\n",
       "    </div>\n",
       "\n",
       "<style>\n",
       "  .colab-df-quickchart {\n",
       "    background-color: #E8F0FE;\n",
       "    border: none;\n",
       "    border-radius: 50%;\n",
       "    cursor: pointer;\n",
       "    display: none;\n",
       "    fill: #1967D2;\n",
       "    height: 32px;\n",
       "    padding: 0 0 0 0;\n",
       "    width: 32px;\n",
       "  }\n",
       "\n",
       "  .colab-df-quickchart:hover {\n",
       "    background-color: #E2EBFA;\n",
       "    box-shadow: 0px 1px 2px rgba(60, 64, 67, 0.3), 0px 1px 3px 1px rgba(60, 64, 67, 0.15);\n",
       "    fill: #174EA6;\n",
       "  }\n",
       "\n",
       "  [theme=dark] .colab-df-quickchart {\n",
       "    background-color: #3B4455;\n",
       "    fill: #D2E3FC;\n",
       "  }\n",
       "\n",
       "  [theme=dark] .colab-df-quickchart:hover {\n",
       "    background-color: #434B5C;\n",
       "    box-shadow: 0px 1px 3px 1px rgba(0, 0, 0, 0.15);\n",
       "    filter: drop-shadow(0px 1px 2px rgba(0, 0, 0, 0.3));\n",
       "    fill: #FFFFFF;\n",
       "  }\n",
       "</style>\n",
       "\n",
       "    <script>\n",
       "      async function quickchart(key) {\n",
       "        const containerElement = document.querySelector('#' + key);\n",
       "        const charts = await google.colab.kernel.invokeFunction(\n",
       "            'suggestCharts', [key], {});\n",
       "      }\n",
       "    </script>\n",
       "\n",
       "      <script>\n",
       "\n",
       "function displayQuickchartButton(domScope) {\n",
       "  let quickchartButtonEl =\n",
       "    domScope.querySelector('#df-396e3df0-c860-49d1-8633-34d0fdc7ccc8 button.colab-df-quickchart');\n",
       "  quickchartButtonEl.style.display =\n",
       "    google.colab.kernel.accessAllowed ? 'block' : 'none';\n",
       "}\n",
       "\n",
       "        displayQuickchartButton(document);\n",
       "      </script>\n",
       "      <style>\n",
       "    .colab-df-container {\n",
       "      display:flex;\n",
       "      flex-wrap:wrap;\n",
       "      gap: 12px;\n",
       "    }\n",
       "\n",
       "    .colab-df-convert {\n",
       "      background-color: #E8F0FE;\n",
       "      border: none;\n",
       "      border-radius: 50%;\n",
       "      cursor: pointer;\n",
       "      display: none;\n",
       "      fill: #1967D2;\n",
       "      height: 32px;\n",
       "      padding: 0 0 0 0;\n",
       "      width: 32px;\n",
       "    }\n",
       "\n",
       "    .colab-df-convert:hover {\n",
       "      background-color: #E2EBFA;\n",
       "      box-shadow: 0px 1px 2px rgba(60, 64, 67, 0.3), 0px 1px 3px 1px rgba(60, 64, 67, 0.15);\n",
       "      fill: #174EA6;\n",
       "    }\n",
       "\n",
       "    [theme=dark] .colab-df-convert {\n",
       "      background-color: #3B4455;\n",
       "      fill: #D2E3FC;\n",
       "    }\n",
       "\n",
       "    [theme=dark] .colab-df-convert:hover {\n",
       "      background-color: #434B5C;\n",
       "      box-shadow: 0px 1px 3px 1px rgba(0, 0, 0, 0.15);\n",
       "      filter: drop-shadow(0px 1px 2px rgba(0, 0, 0, 0.3));\n",
       "      fill: #FFFFFF;\n",
       "    }\n",
       "  </style>\n",
       "\n",
       "      <script>\n",
       "        const buttonEl =\n",
       "          document.querySelector('#df-43c66896-486c-4ce9-98a4-be83aad94ca0 button.colab-df-convert');\n",
       "        buttonEl.style.display =\n",
       "          google.colab.kernel.accessAllowed ? 'block' : 'none';\n",
       "\n",
       "        async function convertToInteractive(key) {\n",
       "          const element = document.querySelector('#df-43c66896-486c-4ce9-98a4-be83aad94ca0');\n",
       "          const dataTable =\n",
       "            await google.colab.kernel.invokeFunction('convertToInteractive',\n",
       "                                                     [key], {});\n",
       "          if (!dataTable) return;\n",
       "\n",
       "          const docLinkHtml = 'Like what you see? Visit the ' +\n",
       "            '<a target=\"_blank\" href=https://colab.research.google.com/notebooks/data_table.ipynb>data table notebook</a>'\n",
       "            + ' to learn more about interactive tables.';\n",
       "          element.innerHTML = '';\n",
       "          dataTable['output_type'] = 'display_data';\n",
       "          await google.colab.output.renderOutput(dataTable, element);\n",
       "          const docLink = document.createElement('div');\n",
       "          docLink.innerHTML = docLinkHtml;\n",
       "          element.appendChild(docLink);\n",
       "        }\n",
       "      </script>\n",
       "    </div>\n",
       "  </div>\n"
      ],
      "text/plain": [
       "            BNBUCT02  BNEMTE02  BNODTE02  BNRMTE02  BSCICP02  BSCURT02  \\\n",
       "date                                                                     \n",
       "2023-02-01       NaN       NaN       NaN       NaN      -2.6      78.4   \n",
       "2023-03-01       NaN       NaN       NaN       NaN      -3.7      77.8   \n",
       "2023-04-01       NaN       NaN       NaN       NaN      -2.9      78.4   \n",
       "2023-05-01       NaN       NaN       NaN       NaN      -3.1      78.4   \n",
       "2023-06-01       NaN       NaN       NaN       NaN      -4.0       NaN   \n",
       "\n",
       "            BSEMFT02  BSOBLV02   BSOITE02  BSPRTE02  ...  BBBOASPREAD  \\\n",
       "date                                                 ...                \n",
       "2023-02-01 -1.488108     -10.0  -9.904271 -6.838155  ...         1.55   \n",
       "2023-03-01 -4.394159     -10.0 -11.664475 -4.339667  ...         1.77   \n",
       "2023-04-01 -0.707885     -11.0 -10.242475 -4.047127  ...         1.73   \n",
       "2023-05-01  2.680256     -13.0 -17.834084  1.060291  ...         1.80   \n",
       "2023-06-01 -5.300056      -9.0  -6.879287 -6.892674  ...         1.69   \n",
       "\n",
       "                  SP500    WTI  W875RX1  VIXCLS  RECPROUSM156N         DXY  \\\n",
       "date                                                                         \n",
       "2023-02-01  3970.153442  76.83  14622.7   20.12           0.36  104.870003   \n",
       "2023-03-01  4109.312445  73.28  14664.3   21.64           0.32  102.510002   \n",
       "2023-04-01  4169.481401  79.45  14659.0   17.82           0.22  101.669998   \n",
       "2023-05-01  4179.825462  71.58  14702.7   17.64           0.62  104.320000   \n",
       "2023-06-01  4450.381312  68.11      NaN   14.00            NaN  102.910004   \n",
       "\n",
       "            y_nber  y_oecd  y_agg  \n",
       "date                               \n",
       "2023-02-01       0     0.0    0.0  \n",
       "2023-03-01       0     0.0    0.0  \n",
       "2023-04-01       0     0.0    0.0  \n",
       "2023-05-01       0     0.0    0.0  \n",
       "2023-06-01       0     0.0    0.0  \n",
       "\n",
       "[5 rows x 73 columns]"
      ]
     },
     "execution_count": 45,
     "metadata": {},
     "output_type": "execute_result"
    }
   ],
   "source": [
    "import os, sys\n",
    "from google.colab import drive\n",
    "drive.mount('/content/drive')\n",
    "path='drive/MyDrive/Capstone(Team10)/code'\n",
    "\n",
    "\n",
    "file = tf.keras.utils\n",
    "raw_df = pd.read_csv(path+'/data/rawdata_USA.csv', index_col=0, parse_dates=True)\n",
    "raw_df.index.name='date'\n",
    "metadata=pd.read_csv(path+'/data/metadata_final.csv')\n",
    "\n",
    "raw_df.tail(5)"
   ]
  },
  {
   "cell_type": "code",
   "execution_count": 46,
   "metadata": {
    "colab": {
     "base_uri": "https://localhost:8080/"
    },
    "executionInfo": {
     "elapsed": 8,
     "status": "ok",
     "timestamp": 1689082556398,
     "user": {
      "displayName": "Minjung Kwon",
      "userId": "05819400405449765661"
     },
     "user_tz": -540
    },
    "id": "7S-3wT2zoq08",
    "outputId": "e360fa76-1fde-471b-ad27-d798d78ca887"
   },
   "outputs": [
    {
     "data": {
      "text/plain": [
       "73"
      ]
     },
     "execution_count": 46,
     "metadata": {},
     "output_type": "execute_result"
    }
   ],
   "source": [
    "len(raw_df.columns)"
   ]
  },
  {
   "cell_type": "markdown",
   "metadata": {
    "id": "xWKB_CVZFLpB"
   },
   "source": [
    "### Examine the class label imbalance\n",
    "\n",
    "Let's look at the dataset imbalance:"
   ]
  },
  {
   "cell_type": "code",
   "execution_count": 47,
   "metadata": {
    "colab": {
     "base_uri": "https://localhost:8080/"
    },
    "execution": {
     "iopub.execute_input": "2022-12-14T02:48:13.844908Z",
     "iopub.status.busy": "2022-12-14T02:48:13.844338Z",
     "iopub.status.idle": "2022-12-14T02:48:13.849422Z",
     "shell.execute_reply": "2022-12-14T02:48:13.848795Z"
    },
    "executionInfo": {
     "elapsed": 5,
     "status": "ok",
     "timestamp": 1689082556398,
     "user": {
      "displayName": "Minjung Kwon",
      "userId": "05819400405449765661"
     },
     "user_tz": -540
    },
    "id": "HCJFrtuY2iLF",
    "outputId": "a9eabb05-ef25-4522-9109-5ec0bf885c47"
   },
   "outputs": [
    {
     "name": "stdout",
     "output_type": "stream",
     "text": [
      "Examples:\n",
      "    Total: 1074\n",
      "    Positive: 145 (13.50% of total)\n",
      "\n"
     ]
    }
   ],
   "source": [
    "neg, pos = np.bincount(raw_df['y_nber'])\n",
    "total = neg + pos\n",
    "print('Examples:\\n    Total: {}\\n    Positive: {} ({:.2f}% of total)\\n'.format(\n",
    "    total, pos, 100 * pos / total))"
   ]
  },
  {
   "cell_type": "code",
   "execution_count": 48,
   "metadata": {
    "colab": {
     "base_uri": "https://localhost:8080/",
     "height": 358
    },
    "executionInfo": {
     "elapsed": 919,
     "status": "ok",
     "timestamp": 1689082557313,
     "user": {
      "displayName": "Minjung Kwon",
      "userId": "05819400405449765661"
     },
     "user_tz": -540
    },
    "id": "cC2D4cEiuYH1",
    "outputId": "42e592b0-1397-4e7d-bc42-c757df1afd4a"
   },
   "outputs": [
    {
     "data": {
      "text/plain": [
       "<matplotlib.legend.Legend at 0x7f4c0992e3e0>"
      ]
     },
     "execution_count": 48,
     "metadata": {},
     "output_type": "execute_result"
    },
    {
     "data": {
      "image/png": "[encoded data removed]",
      "text/plain": [
       "<Figure size 500x300 with 1 Axes>"
      ]
     },
     "metadata": {},
     "output_type": "display_data"
    }
   ],
   "source": [
    "data=raw_df.loc[raw_df.index.year>=1950]\n",
    "\n",
    "fig, ax=plt.subplots(figsize=(5,3))\n",
    "\n",
    "lines=data['LORSGPNO'].plot(ax=ax, color=['green'], zorder=200)\n",
    "area=(data['y_nber']*1000).plot.area(ax=ax, color='#d3d3d3')\n",
    "ax.set_ylim([90,105])\n",
    "ax.legend(['GDP(Normalized)','Recession(NBER)'])"
   ]
  },
  {
   "cell_type": "code",
   "execution_count": 49,
   "metadata": {
    "colab": {
     "base_uri": "https://localhost:8080/"
    },
    "executionInfo": {
     "elapsed": 12,
     "status": "ok",
     "timestamp": 1689082557313,
     "user": {
      "displayName": "Minjung Kwon",
      "userId": "05819400405449765661"
     },
     "user_tz": -540
    },
    "id": "o1HhBYlxqB59",
    "outputId": "e99677f2-9f4f-476d-8426-e9f986712104"
   },
   "outputs": [
    {
     "name": "stdout",
     "output_type": "stream",
     "text": [
      "Examples:\n",
      "    Total: 885\n",
      "    Positive: 382 (43.16% of total)\n",
      "\n"
     ]
    }
   ],
   "source": [
    "\n",
    "neg, pos = np.bincount(raw_df['y_oecd'].dropna())\n",
    "total = neg + pos\n",
    "print('Examples:\\n    Total: {}\\n    Positive: {} ({:.2f}% of total)\\n'.format(\n",
    "    total, pos, 100 * pos / total))"
   ]
  },
  {
   "cell_type": "code",
   "execution_count": 50,
   "metadata": {
    "colab": {
     "base_uri": "https://localhost:8080/",
     "height": 358
    },
    "executionInfo": {
     "elapsed": 9,
     "status": "ok",
     "timestamp": 1689082557313,
     "user": {
      "displayName": "Minjung Kwon",
      "userId": "05819400405449765661"
     },
     "user_tz": -540
    },
    "id": "OlbBtGugyE2Z",
    "outputId": "e9b58eee-95bc-47cf-c0a7-80416207d246"
   },
   "outputs": [
    {
     "data": {
      "text/plain": [
       "<matplotlib.legend.Legend at 0x7f4c086ccd60>"
      ]
     },
     "execution_count": 50,
     "metadata": {},
     "output_type": "execute_result"
    },
    {
     "data": {
      "image/png": "[encoded data removed]",
      "text/plain": [
       "<Figure size 500x300 with 1 Axes>"
      ]
     },
     "metadata": {},
     "output_type": "display_data"
    }
   ],
   "source": [
    "data=raw_df.loc[raw_df.index.year>=1950]\n",
    "\n",
    "fig, ax=plt.subplots(figsize=(5,3))\n",
    "\n",
    "lines=data['LORSGPNO'].plot(ax=ax, color=['green'], zorder=200)\n",
    "area=(data['y_oecd']*1000).plot.area(ax=ax, color='#d3d3d3')\n",
    "ax.set_ylim([90,105])\n",
    "ax.legend(['GDP(Normalized)','Recession(OECD)'])"
   ]
  },
  {
   "cell_type": "code",
   "execution_count": 51,
   "metadata": {
    "colab": {
     "base_uri": "https://localhost:8080/"
    },
    "executionInfo": {
     "elapsed": 8,
     "status": "ok",
     "timestamp": 1689082557314,
     "user": {
      "displayName": "Minjung Kwon",
      "userId": "05819400405449765661"
     },
     "user_tz": -540
    },
    "id": "XlEYLzpsqCGT",
    "outputId": "7c53fdc5-7bd6-4ff2-cfc8-3d94e09b12d1"
   },
   "outputs": [
    {
     "name": "stdout",
     "output_type": "stream",
     "text": [
      "Examples:\n",
      "    Total: 885\n",
      "    Positive1: 270 (30.51% of total)\n",
      "    Positive2: 113 (12.77% of total)\n",
      "\n"
     ]
    }
   ],
   "source": [
    "neg, pos1, pos2 = np.bincount(raw_df['y_agg'].dropna())\n",
    "total = neg + pos1 + pos2\n",
    "print('Examples:\\n    Total: {}\\n\\\n",
    "    Positive1: {} ({:.2f}% of total)\\n\\\n",
    "    Positive2: {} ({:.2f}% of total)\\n'.format(\n",
    "    total, pos1, 100 * pos1 / total, pos2, 100 * pos2 / total))"
   ]
  },
  {
   "cell_type": "code",
   "execution_count": 52,
   "metadata": {
    "colab": {
     "base_uri": "https://localhost:8080/",
     "height": 358
    },
    "executionInfo": {
     "elapsed": 938,
     "status": "ok",
     "timestamp": 1689082558245,
     "user": {
      "displayName": "Minjung Kwon",
      "userId": "05819400405449765661"
     },
     "user_tz": -540
    },
    "id": "ePrDKu-SuBp5",
    "outputId": "ed89c0f8-18cb-4559-f3d3-7da2c7289794"
   },
   "outputs": [
    {
     "data": {
      "text/plain": [
       "<matplotlib.legend.Legend at 0x7f4c0862bf10>"
      ]
     },
     "execution_count": 52,
     "metadata": {},
     "output_type": "execute_result"
    },
    {
     "data": {
      "image/png": "[encoded data removed]",
      "text/plain": [
       "<Figure size 500x300 with 1 Axes>"
      ]
     },
     "metadata": {},
     "output_type": "display_data"
    }
   ],
   "source": [
    "data=raw_df.loc[raw_df.index.year>=1950]\n",
    "\n",
    "fig, ax=plt.subplots(figsize=(5,3))\n",
    "\n",
    "lines=data['LORSGPNO'].plot(ax=ax, color=['green'], zorder=200)\n",
    "area1=(data['y_nber']*1000).plot.area(ax=ax, color='#ffb347', zorder=3)\n",
    "area2=(data['y_oecd']*1000).plot.area(ax=ax, color='#d3d3d3')\n",
    "\n",
    "ax.set_ylim([90,105])\n",
    "ax.legend(['GDP(Normalized)','Recession(NBER&OECD)'])"
   ]
  },
  {
   "cell_type": "markdown",
   "metadata": {
    "id": "KnLKFQDsCBUg"
   },
   "source": [
    "This shows the small fraction of positive samples."
   ]
  },
  {
   "cell_type": "markdown",
   "metadata": {
    "id": "jpzyzeK9zI2a"
   },
   "source": [
    "### Split Dataset into Train, Validation, Test data\n",
    "\n",
    "We will use last 5 years for final test set. And for cross validation, we will use 5 blocked time-series split."
   ]
  },
  {
   "cell_type": "code",
   "execution_count": 53,
   "metadata": {
    "execution": {
     "iopub.execute_input": "2022-12-14T02:48:13.853161Z",
     "iopub.status.busy": "2022-12-14T02:48:13.852526Z",
     "iopub.status.idle": "2022-12-14T02:48:13.892108Z",
     "shell.execute_reply": "2022-12-14T02:48:13.891465Z"
    },
    "executionInfo": {
     "elapsed": 27,
     "status": "ok",
     "timestamp": 1689082558246,
     "user": {
      "displayName": "Minjung Kwon",
      "userId": "05819400405449765661"
     },
     "user_tz": -540
    },
    "id": "Ef42jTuxEjnj"
   },
   "outputs": [],
   "source": [
    "## specifying variable names for X and y\n",
    "y_list=list(metadata[metadata.Level=='Recession']['SUBJECT'])\n",
    "x_list=[x for x in raw_df.columns if x not in y_list]\n",
    "len(y_list), len(x_list)\n",
    "\n",
    "## split raw_df into X and y\n",
    "X=raw_df[x_list]\n",
    "y=raw_df['y_oecd']  # options: y_nber, y_oecd, or y_agg"
   ]
  },
  {
   "cell_type": "code",
   "execution_count": 54,
   "metadata": {
    "colab": {
     "base_uri": "https://localhost:8080/"
    },
    "executionInfo": {
     "elapsed": 26,
     "status": "ok",
     "timestamp": 1689082558246,
     "user": {
      "displayName": "Minjung Kwon",
      "userId": "05819400405449765661"
     },
     "user_tz": -540
    },
    "id": "ge63mRAsHO9h",
    "outputId": "dd6d5ea2-bca4-4737-e4fa-c60d44e99eb8"
   },
   "outputs": [
    {
     "data": {
      "text/plain": [
       "BBBYIELD       26.5\n",
       "BBBOASPREAD    26.5\n",
       "dtype: float64"
      ]
     },
     "execution_count": 54,
     "metadata": {},
     "output_type": "execute_result"
    }
   ],
   "source": [
    "#metadata.SUBJECT[-20:]  ##BBBYIELD, BBBOASPREAD\n",
    "(len(X)-X[['BBBYIELD', 'BBBOASPREAD']].isna().sum())/12"
   ]
  },
  {
   "cell_type": "code",
   "execution_count": 55,
   "metadata": {
    "colab": {
     "base_uri": "https://localhost:8080/",
     "height": 423
    },
    "executionInfo": {
     "elapsed": 24,
     "status": "ok",
     "timestamp": 1689082558246,
     "user": {
      "displayName": "Minjung Kwon",
      "userId": "05819400405449765661"
     },
     "user_tz": -540
    },
    "id": "dJkwp0YlAjV6",
    "outputId": "b29b1e3d-8eeb-498a-e46f-65359528eb9e"
   },
   "outputs": [
    {
     "name": "stdout",
     "output_type": "stream",
     "text": [
      "True\n",
      "True\n"
     ]
    },
    {
     "name": "stderr",
     "output_type": "stream",
     "text": [
      "/usr/local/lib/python3.10/dist-packages/pandas/core/internals/blocks.py:351: RuntimeWarning: divide by zero encountered in log\n",
      "  result = func(self.values, **kwargs)\n",
      "/usr/local/lib/python3.10/dist-packages/pandas/core/internals/blocks.py:351: RuntimeWarning: invalid value encountered in log\n",
      "  result = func(self.values, **kwargs)\n"
     ]
    },
    {
     "data": {
      "text/html": [
       "\n",
       "\n",
       "  <div id=\"df-0bdb722f-3a65-4d64-994a-c3c034be5bf0\">\n",
       "    <div class=\"colab-df-container\">\n",
       "      <div>\n",
       "<style scoped>\n",
       "    .dataframe tbody tr th:only-of-type {\n",
       "        vertical-align: middle;\n",
       "    }\n",
       "\n",
       "    .dataframe tbody tr th {\n",
       "        vertical-align: top;\n",
       "    }\n",
       "\n",
       "    .dataframe thead th {\n",
       "        text-align: right;\n",
       "    }\n",
       "</style>\n",
       "<table border=\"1\" class=\"dataframe\">\n",
       "  <thead>\n",
       "    <tr style=\"text-align: right;\">\n",
       "      <th></th>\n",
       "      <th>IR3TED01</th>\n",
       "      <th>IR3TIB01</th>\n",
       "      <th>IRSTFR01</th>\n",
       "      <th>IRLTLT01</th>\n",
       "      <th>IR3TCD01</th>\n",
       "      <th>LREMTTTT</th>\n",
       "      <th>LRHU24TT</th>\n",
       "      <th>LRUNTTTT</th>\n",
       "      <th>3MTBILL</th>\n",
       "      <th>10YT</th>\n",
       "      <th>...</th>\n",
       "      <th>CPGRGO01</th>\n",
       "      <th>CPGRHO01</th>\n",
       "      <th>CPGRSE01</th>\n",
       "      <th>W875RX1</th>\n",
       "      <th>DXY</th>\n",
       "      <th>SP500</th>\n",
       "      <th>WTI</th>\n",
       "      <th>VIXCLS</th>\n",
       "      <th>103SPREAD</th>\n",
       "      <th>BBBOASPREAD</th>\n",
       "    </tr>\n",
       "    <tr>\n",
       "      <th>date</th>\n",
       "      <th></th>\n",
       "      <th></th>\n",
       "      <th></th>\n",
       "      <th></th>\n",
       "      <th></th>\n",
       "      <th></th>\n",
       "      <th></th>\n",
       "      <th></th>\n",
       "      <th></th>\n",
       "      <th></th>\n",
       "      <th></th>\n",
       "      <th></th>\n",
       "      <th></th>\n",
       "      <th></th>\n",
       "      <th></th>\n",
       "      <th></th>\n",
       "      <th></th>\n",
       "      <th></th>\n",
       "      <th></th>\n",
       "      <th></th>\n",
       "      <th></th>\n",
       "    </tr>\n",
       "  </thead>\n",
       "  <tbody>\n",
       "    <tr>\n",
       "      <th>1934-01-01</th>\n",
       "      <td>NaN</td>\n",
       "      <td>NaN</td>\n",
       "      <td>NaN</td>\n",
       "      <td>NaN</td>\n",
       "      <td>NaN</td>\n",
       "      <td>NaN</td>\n",
       "      <td>NaN</td>\n",
       "      <td>NaN</td>\n",
       "      <td>NaN</td>\n",
       "      <td>NaN</td>\n",
       "      <td>...</td>\n",
       "      <td>NaN</td>\n",
       "      <td>NaN</td>\n",
       "      <td>NaN</td>\n",
       "      <td>NaN</td>\n",
       "      <td>NaN</td>\n",
       "      <td>NaN</td>\n",
       "      <td>NaN</td>\n",
       "      <td>NaN</td>\n",
       "      <td>NaN</td>\n",
       "      <td>NaN</td>\n",
       "    </tr>\n",
       "    <tr>\n",
       "      <th>1934-02-01</th>\n",
       "      <td>NaN</td>\n",
       "      <td>NaN</td>\n",
       "      <td>NaN</td>\n",
       "      <td>NaN</td>\n",
       "      <td>NaN</td>\n",
       "      <td>NaN</td>\n",
       "      <td>NaN</td>\n",
       "      <td>NaN</td>\n",
       "      <td>-0.10</td>\n",
       "      <td>NaN</td>\n",
       "      <td>...</td>\n",
       "      <td>NaN</td>\n",
       "      <td>NaN</td>\n",
       "      <td>NaN</td>\n",
       "      <td>NaN</td>\n",
       "      <td>NaN</td>\n",
       "      <td>-0.037396</td>\n",
       "      <td>NaN</td>\n",
       "      <td>NaN</td>\n",
       "      <td>NaN</td>\n",
       "      <td>NaN</td>\n",
       "    </tr>\n",
       "    <tr>\n",
       "      <th>1934-03-01</th>\n",
       "      <td>NaN</td>\n",
       "      <td>NaN</td>\n",
       "      <td>NaN</td>\n",
       "      <td>NaN</td>\n",
       "      <td>NaN</td>\n",
       "      <td>NaN</td>\n",
       "      <td>NaN</td>\n",
       "      <td>NaN</td>\n",
       "      <td>-0.38</td>\n",
       "      <td>NaN</td>\n",
       "      <td>...</td>\n",
       "      <td>NaN</td>\n",
       "      <td>NaN</td>\n",
       "      <td>NaN</td>\n",
       "      <td>NaN</td>\n",
       "      <td>NaN</td>\n",
       "      <td>-0.013097</td>\n",
       "      <td>NaN</td>\n",
       "      <td>NaN</td>\n",
       "      <td>NaN</td>\n",
       "      <td>NaN</td>\n",
       "    </tr>\n",
       "    <tr>\n",
       "      <th>1934-04-01</th>\n",
       "      <td>NaN</td>\n",
       "      <td>NaN</td>\n",
       "      <td>NaN</td>\n",
       "      <td>NaN</td>\n",
       "      <td>NaN</td>\n",
       "      <td>NaN</td>\n",
       "      <td>NaN</td>\n",
       "      <td>NaN</td>\n",
       "      <td>-0.09</td>\n",
       "      <td>NaN</td>\n",
       "      <td>...</td>\n",
       "      <td>NaN</td>\n",
       "      <td>NaN</td>\n",
       "      <td>NaN</td>\n",
       "      <td>NaN</td>\n",
       "      <td>NaN</td>\n",
       "      <td>-0.015181</td>\n",
       "      <td>NaN</td>\n",
       "      <td>NaN</td>\n",
       "      <td>NaN</td>\n",
       "      <td>NaN</td>\n",
       "    </tr>\n",
       "    <tr>\n",
       "      <th>1934-05-01</th>\n",
       "      <td>NaN</td>\n",
       "      <td>NaN</td>\n",
       "      <td>NaN</td>\n",
       "      <td>NaN</td>\n",
       "      <td>NaN</td>\n",
       "      <td>NaN</td>\n",
       "      <td>NaN</td>\n",
       "      <td>NaN</td>\n",
       "      <td>0.01</td>\n",
       "      <td>NaN</td>\n",
       "      <td>...</td>\n",
       "      <td>NaN</td>\n",
       "      <td>NaN</td>\n",
       "      <td>NaN</td>\n",
       "      <td>NaN</td>\n",
       "      <td>NaN</td>\n",
       "      <td>-0.084754</td>\n",
       "      <td>NaN</td>\n",
       "      <td>NaN</td>\n",
       "      <td>NaN</td>\n",
       "      <td>NaN</td>\n",
       "    </tr>\n",
       "  </tbody>\n",
       "</table>\n",
       "<p>5 rows × 63 columns</p>\n",
       "</div>\n",
       "      <button class=\"colab-df-convert\" onclick=\"convertToInteractive('df-0bdb722f-3a65-4d64-994a-c3c034be5bf0')\"\n",
       "              title=\"Convert this dataframe to an interactive table.\"\n",
       "              style=\"display:none;\">\n",
       "\n",
       "  <svg xmlns=\"http://www.w3.org/2000/svg\" height=\"24px\"viewBox=\"0 0 24 24\"\n",
       "       width=\"24px\">\n",
       "    <path d=\"M0 0h24v24H0V0z\" fill=\"none\"/>\n",
       "    <path d=\"M18.56 5.44l.94 2.06.94-2.06 2.06-.94-2.06-.94-.94-2.06-.94 2.06-2.06.94zm-11 1L8.5 8.5l.94-2.06 2.06-.94-2.06-.94L8.5 2.5l-.94 2.06-2.06.94zm10 10l.94 2.06.94-2.06 2.06-.94-2.06-.94-.94-2.06-.94 2.06-2.06.94z\"/><path d=\"M17.41 7.96l-1.37-1.37c-.4-.4-.92-.59-1.43-.59-.52 0-1.04.2-1.43.59L10.3 9.45l-7.72 7.72c-.78.78-.78 2.05 0 2.83L4 21.41c.39.39.9.59 1.41.59.51 0 1.02-.2 1.41-.59l7.78-7.78 2.81-2.81c.8-.78.8-2.07 0-2.86zM5.41 20L4 18.59l7.72-7.72 1.47 1.35L5.41 20z\"/>\n",
       "  </svg>\n",
       "      </button>\n",
       "\n",
       "\n",
       "\n",
       "    <div id=\"df-c3c0716a-bd24-41e9-804d-d4a432ce773c\">\n",
       "      <button class=\"colab-df-quickchart\" onclick=\"quickchart('df-c3c0716a-bd24-41e9-804d-d4a432ce773c')\"\n",
       "              title=\"Suggest charts.\"\n",
       "              style=\"display:none;\">\n",
       "\n",
       "<svg xmlns=\"http://www.w3.org/2000/svg\" height=\"24px\"viewBox=\"0 0 24 24\"\n",
       "     width=\"24px\">\n",
       "    <g>\n",
       "        <path d=\"M19 3H5c-1.1 0-2 .9-2 2v14c0 1.1.9 2 2 2h14c1.1 0 2-.9 2-2V5c0-1.1-.9-2-2-2zM9 17H7v-7h2v7zm4 0h-2V7h2v10zm4 0h-2v-4h2v4z\"/>\n",
       "    </g>\n",
       "</svg>\n",
       "      </button>\n",
       "    </div>\n",
       "\n",
       "<style>\n",
       "  .colab-df-quickchart {\n",
       "    background-color: #E8F0FE;\n",
       "    border: none;\n",
       "    border-radius: 50%;\n",
       "    cursor: pointer;\n",
       "    display: none;\n",
       "    fill: #1967D2;\n",
       "    height: 32px;\n",
       "    padding: 0 0 0 0;\n",
       "    width: 32px;\n",
       "  }\n",
       "\n",
       "  .colab-df-quickchart:hover {\n",
       "    background-color: #E2EBFA;\n",
       "    box-shadow: 0px 1px 2px rgba(60, 64, 67, 0.3), 0px 1px 3px 1px rgba(60, 64, 67, 0.15);\n",
       "    fill: #174EA6;\n",
       "  }\n",
       "\n",
       "  [theme=dark] .colab-df-quickchart {\n",
       "    background-color: #3B4455;\n",
       "    fill: #D2E3FC;\n",
       "  }\n",
       "\n",
       "  [theme=dark] .colab-df-quickchart:hover {\n",
       "    background-color: #434B5C;\n",
       "    box-shadow: 0px 1px 3px 1px rgba(0, 0, 0, 0.15);\n",
       "    filter: drop-shadow(0px 1px 2px rgba(0, 0, 0, 0.3));\n",
       "    fill: #FFFFFF;\n",
       "  }\n",
       "</style>\n",
       "\n",
       "    <script>\n",
       "      async function quickchart(key) {\n",
       "        const containerElement = document.querySelector('#' + key);\n",
       "        const charts = await google.colab.kernel.invokeFunction(\n",
       "            'suggestCharts', [key], {});\n",
       "      }\n",
       "    </script>\n",
       "\n",
       "      <script>\n",
       "\n",
       "function displayQuickchartButton(domScope) {\n",
       "  let quickchartButtonEl =\n",
       "    domScope.querySelector('#df-c3c0716a-bd24-41e9-804d-d4a432ce773c button.colab-df-quickchart');\n",
       "  quickchartButtonEl.style.display =\n",
       "    google.colab.kernel.accessAllowed ? 'block' : 'none';\n",
       "}\n",
       "\n",
       "        displayQuickchartButton(document);\n",
       "      </script>\n",
       "      <style>\n",
       "    .colab-df-container {\n",
       "      display:flex;\n",
       "      flex-wrap:wrap;\n",
       "      gap: 12px;\n",
       "    }\n",
       "\n",
       "    .colab-df-convert {\n",
       "      background-color: #E8F0FE;\n",
       "      border: none;\n",
       "      border-radius: 50%;\n",
       "      cursor: pointer;\n",
       "      display: none;\n",
       "      fill: #1967D2;\n",
       "      height: 32px;\n",
       "      padding: 0 0 0 0;\n",
       "      width: 32px;\n",
       "    }\n",
       "\n",
       "    .colab-df-convert:hover {\n",
       "      background-color: #E2EBFA;\n",
       "      box-shadow: 0px 1px 2px rgba(60, 64, 67, 0.3), 0px 1px 3px 1px rgba(60, 64, 67, 0.15);\n",
       "      fill: #174EA6;\n",
       "    }\n",
       "\n",
       "    [theme=dark] .colab-df-convert {\n",
       "      background-color: #3B4455;\n",
       "      fill: #D2E3FC;\n",
       "    }\n",
       "\n",
       "    [theme=dark] .colab-df-convert:hover {\n",
       "      background-color: #434B5C;\n",
       "      box-shadow: 0px 1px 3px 1px rgba(0, 0, 0, 0.15);\n",
       "      filter: drop-shadow(0px 1px 2px rgba(0, 0, 0, 0.3));\n",
       "      fill: #FFFFFF;\n",
       "    }\n",
       "  </style>\n",
       "\n",
       "      <script>\n",
       "        const buttonEl =\n",
       "          document.querySelector('#df-0bdb722f-3a65-4d64-994a-c3c034be5bf0 button.colab-df-convert');\n",
       "        buttonEl.style.display =\n",
       "          google.colab.kernel.accessAllowed ? 'block' : 'none';\n",
       "\n",
       "        async function convertToInteractive(key) {\n",
       "          const element = document.querySelector('#df-0bdb722f-3a65-4d64-994a-c3c034be5bf0');\n",
       "          const dataTable =\n",
       "            await google.colab.kernel.invokeFunction('convertToInteractive',\n",
       "                                                     [key], {});\n",
       "          if (!dataTable) return;\n",
       "\n",
       "          const docLinkHtml = 'Like what you see? Visit the ' +\n",
       "            '<a target=\"_blank\" href=https://colab.research.google.com/notebooks/data_table.ipynb>data table notebook</a>'\n",
       "            + ' to learn more about interactive tables.';\n",
       "          element.innerHTML = '';\n",
       "          dataTable['output_type'] = 'display_data';\n",
       "          await google.colab.output.renderOutput(dataTable, element);\n",
       "          const docLink = document.createElement('div');\n",
       "          docLink.innerHTML = docLinkHtml;\n",
       "          element.appendChild(docLink);\n",
       "        }\n",
       "      </script>\n",
       "    </div>\n",
       "  </div>\n"
      ],
      "text/plain": [
       "            IR3TED01  IR3TIB01  IRSTFR01  IRLTLT01  IR3TCD01  LREMTTTT  \\\n",
       "date                                                                     \n",
       "1934-01-01       NaN       NaN       NaN       NaN       NaN       NaN   \n",
       "1934-02-01       NaN       NaN       NaN       NaN       NaN       NaN   \n",
       "1934-03-01       NaN       NaN       NaN       NaN       NaN       NaN   \n",
       "1934-04-01       NaN       NaN       NaN       NaN       NaN       NaN   \n",
       "1934-05-01       NaN       NaN       NaN       NaN       NaN       NaN   \n",
       "\n",
       "            LRHU24TT  LRUNTTTT  3MTBILL  10YT  ...  CPGRGO01  CPGRHO01  \\\n",
       "date                                           ...                       \n",
       "1934-01-01       NaN       NaN      NaN   NaN  ...       NaN       NaN   \n",
       "1934-02-01       NaN       NaN    -0.10   NaN  ...       NaN       NaN   \n",
       "1934-03-01       NaN       NaN    -0.38   NaN  ...       NaN       NaN   \n",
       "1934-04-01       NaN       NaN    -0.09   NaN  ...       NaN       NaN   \n",
       "1934-05-01       NaN       NaN     0.01   NaN  ...       NaN       NaN   \n",
       "\n",
       "            CPGRSE01  W875RX1  DXY     SP500  WTI  VIXCLS  103SPREAD  \\\n",
       "date                                                                   \n",
       "1934-01-01       NaN      NaN  NaN       NaN  NaN     NaN        NaN   \n",
       "1934-02-01       NaN      NaN  NaN -0.037396  NaN     NaN        NaN   \n",
       "1934-03-01       NaN      NaN  NaN -0.013097  NaN     NaN        NaN   \n",
       "1934-04-01       NaN      NaN  NaN -0.015181  NaN     NaN        NaN   \n",
       "1934-05-01       NaN      NaN  NaN -0.084754  NaN     NaN        NaN   \n",
       "\n",
       "            BBBOASPREAD  \n",
       "date                     \n",
       "1934-01-01          NaN  \n",
       "1934-02-01          NaN  \n",
       "1934-03-01          NaN  \n",
       "1934-04-01          NaN  \n",
       "1934-05-01          NaN  \n",
       "\n",
       "[5 rows x 63 columns]"
      ]
     },
     "execution_count": 55,
     "metadata": {},
     "output_type": "execute_result"
    }
   ],
   "source": [
    "## function data transformation\n",
    "def transform(data, metadata, tcode):\n",
    "\n",
    "    var_list=list(metadata[metadata.Tcode==tcode]['SUBJECT'])\n",
    "\n",
    "    sel_list=[x for x in var_list if x in data.columns]\n",
    "\n",
    "    df=data[sel_list]\n",
    "\n",
    "#    print(df.head())\n",
    "\n",
    "    if tcode=='diff':\n",
    "        df_transform=df.diff()\n",
    "    elif tcode=='log_diff':\n",
    "        df_transform=np.log(df/df.shift(1))\n",
    "    else:\n",
    "        df_transform=df\n",
    "\n",
    "    return df_transform\n",
    "\n",
    "\n",
    "for idx, tcode in enumerate(set(metadata.Tcode.unique())):\n",
    "\n",
    "    if idx==0:\n",
    "        X_tr=transform(X, metadata, tcode)\n",
    "    else:\n",
    "        df_temp=transform(X, metadata, tcode)\n",
    "        X_tr=X_tr.merge(df_temp, how='left', left_index=True, right_index=True)\n",
    "\n",
    "print(X_tr.shape==X.shape)\n",
    "print(set(X_tr.columns)==set(X.columns))\n",
    "X_tr.head()\n"
   ]
  },
  {
   "cell_type": "code",
   "execution_count": 56,
   "metadata": {
    "colab": {
     "base_uri": "https://localhost:8080/"
    },
    "executionInfo": {
     "elapsed": 23,
     "status": "ok",
     "timestamp": 1689082558247,
     "user": {
      "displayName": "Minjung Kwon",
      "userId": "05819400405449765661"
     },
     "user_tz": -540
    },
    "id": "kCRcQkN52CHu",
    "outputId": "30db73bf-5b87-4c99-f1d2-04dfea47b711"
   },
   "outputs": [
    {
     "name": "stdout",
     "output_type": "stream",
     "text": [
      "30 narrow down to 53 features.\n",
      "35 narrow down to 51 features.\n",
      "40 narrow down to 49 features.\n",
      "45 narrow down to 48 features.\n",
      "50 narrow down to 46 features.\n",
      "55 narrow down to 45 features.\n"
     ]
    }
   ],
   "source": [
    "## extract features with more than 50 years and store the features in selected features\n",
    "#threshold=55\n",
    "\n",
    "year_dict=dict(round((len(X_tr)-X_tr.isna().sum())/12,2))\n",
    "\n",
    "# selected_features=[metadata[metadata.SUBJECT==x]['SUBJECT'].values[0] for x in year_dict.keys() if year_dict[x]>=threshold]\n",
    "# [metadata[metadata.SUBJECT==x]['Name'].values[0] for x in year_dict.keys() if year_dict[x]>=threshold]\n",
    "\n",
    "feature_dict={}\n",
    "thresholds=[30,35,40,45,50,55]\n",
    "\n",
    "for threshold in thresholds:\n",
    "  selected_features=[metadata[metadata.SUBJECT==x]['SUBJECT'].values[0] for x in year_dict.keys() if year_dict[x]>=threshold]\n",
    "  feature_dict[threshold]=selected_features\n",
    "  print (threshold, 'narrow down to', len(selected_features), 'features.')"
   ]
  },
  {
   "cell_type": "code",
   "execution_count": 57,
   "metadata": {
    "colab": {
     "base_uri": "https://localhost:8080/"
    },
    "executionInfo": {
     "elapsed": 22,
     "status": "ok",
     "timestamp": 1689082558247,
     "user": {
      "displayName": "Minjung Kwon",
      "userId": "05819400405449765661"
     },
     "user_tz": -540
    },
    "id": "YzjY39soQfnA",
    "outputId": "b502a33e-c43b-4961-f058-8dc7119a5929"
   },
   "outputs": [
    {
     "name": "stdout",
     "output_type": "stream",
     "text": [
      "threshold 30 to 35: dropped features are  ['Business tendency surveys (manufacturing) Export order books or demand Level National indicator', 'CBOE Volatility Index: VIX']\n",
      "threshold 35 to 40: dropped features are  ['Consumer opinion surveys Economic Situation Future tendency National indicator', 'Dollar Index, Monthly end']\n",
      "threshold 40 to 45: dropped features are  ['Consumer Price Index OECD Groups Housing Total']\n",
      "threshold 45 to 50: dropped features are  ['Consumer opinion surveys Consumer prices (inflation) Future tendency National indicator', 'Labour Force Survey - quarterly levels Inactive population Aged 15 and over All persons']\n",
      "threshold 50 to 55: dropped features are  ['Currency Conversions Real effective exchange rates Overall Economy CPI']\n"
     ]
    }
   ],
   "source": [
    "for threshold in [30,35,40,45,50]:\n",
    "  drop_features=[metadata[metadata.SUBJECT==x]['Name'].values[0] for x in feature_dict[threshold] if x not in feature_dict[threshold+5]]\n",
    "  print('threshold {} to {}: dropped features are '.format(threshold, threshold+5), drop_features)"
   ]
  },
  {
   "cell_type": "code",
   "execution_count": 58,
   "metadata": {
    "colab": {
     "base_uri": "https://localhost:8080/"
    },
    "executionInfo": {
     "elapsed": 21,
     "status": "ok",
     "timestamp": 1689082558247,
     "user": {
      "displayName": "Minjung Kwon",
      "userId": "05819400405449765661"
     },
     "user_tz": -540
    },
    "id": "TyPyxL39RpGp",
    "outputId": "064f5526-ff20-40fc-a995-aa45b8811bc9"
   },
   "outputs": [
    {
     "name": "stdout",
     "output_type": "stream",
     "text": [
      "46 37\n",
      "45 36\n"
     ]
    }
   ],
   "source": [
    "## let's try threshold of 50\n",
    "threshold=50\n",
    "selected_features=feature_dict[threshold]\n",
    "missing_dict=dict(X_tr[selected_features][-(threshold*12+6):].isna().sum())\n",
    "imputing_varlist=[x for x in missing_dict if (missing_dict[x]>0)]  ##&(missing_dict[x]<10)\n",
    "print(len(selected_features), len(imputing_varlist))\n",
    "\n",
    "\n",
    "## reduce the X data for periods 1973.1~2022.12\n",
    "## variables having only 1~2 missing values --> missing recent values --> cut to available periods(~22.12)\n",
    "## 'PIEAEN01','PIEAMP01': 6 missing values --> missing recent values --> cut to available periods(~22.12)\n",
    "## other variables: missing values in the midst of the series --> using linear interpolation\n",
    "## it turns out that two data series have same values --> so only use 'IR3TCD01'(&drop 'IR3TIB01')\n",
    "# metadata[metadata.SUBJECT.isin(['IR3TCD01','IR3TIB01'])]['Name'].values\n",
    "# (X_data['IR3TCD01']==X_data['IR3TIB01']).value_counts()\n",
    "\n",
    "selected_features=[x for x in selected_features if x!='IR3TIB01']\n",
    "imputing_varlist=[x for x in imputing_varlist if x in selected_features]\n",
    "\n",
    "print(len(selected_features), len(imputing_varlist))\n",
    "\n",
    "for var in imputing_varlist:\n",
    "  X_tr[var]=X_tr[var].interpolate(method='linear')"
   ]
  },
  {
   "cell_type": "code",
   "execution_count": 59,
   "metadata": {
    "colab": {
     "base_uri": "https://localhost:8080/"
    },
    "executionInfo": {
     "elapsed": 20,
     "status": "ok",
     "timestamp": 1689082558247,
     "user": {
      "displayName": "Minjung Kwon",
      "userId": "05819400405449765661"
     },
     "user_tz": -540
    },
    "id": "ERx3rDfwHSUM",
    "outputId": "110dae8e-b779-4951-c9cd-4279ec0e9d67"
   },
   "outputs": [
    {
     "name": "stdout",
     "output_type": "stream",
     "text": [
      "45\n",
      "45\n"
     ]
    },
    {
     "data": {
      "text/plain": [
       "IR3TED01     0\n",
       "IRSTFR01     0\n",
       "IRLTLT01     0\n",
       "IR3TCD01     0\n",
       "LREMTTTT     0\n",
       "LRHU24TT     0\n",
       "LRUNTTTT     0\n",
       "3MTBILL      0\n",
       "10YT         0\n",
       "LCEAPR01     0\n",
       "BSEMFT02     0\n",
       "XTIMVA01     0\n",
       "PRMNTO01     0\n",
       "MABMM301     0\n",
       "PRCNTO01     0\n",
       "BSOITE02     0\n",
       "STMNIS01     0\n",
       "SLWHTO02     0\n",
       "ODMNTO02     0\n",
       "BSCICP02     0\n",
       "CSCICP02     0\n",
       "XTEXVA01     0\n",
       "CCRETT01     0\n",
       "HOHWMN02     0\n",
       "WSCNDW01     0\n",
       "SLRTTO02     0\n",
       "SLMNTO02     0\n",
       "LCEAMN01     0\n",
       "CPALTT01     0\n",
       "PRINTO01     0\n",
       "BSPRTE02     0\n",
       "MANMM101     0\n",
       "PIEAEN01     0\n",
       "PIEAMP01     0\n",
       "LFACTTTT     0\n",
       "LFEMTTTT     0\n",
       "LFHUTTTT     0\n",
       "LFUNTTTT     0\n",
       "BSCURT02     0\n",
       "CPGRLE01     0\n",
       "CPGREN01     0\n",
       "W875RX1      0\n",
       "SP500        0\n",
       "WTI          0\n",
       "103SPREAD    0\n",
       "dtype: int64"
      ]
     },
     "execution_count": 59,
     "metadata": {},
     "output_type": "execute_result"
    }
   ],
   "source": [
    "X_data=X_tr[selected_features][-(threshold*12+6):-6]\n",
    "y_data=y[-(threshold*12+6):-6]\n",
    "\n",
    "print(len(X_data.columns))\n",
    "print(len(selected_features))\n",
    "\n",
    "X_data.isna().sum()"
   ]
  },
  {
   "cell_type": "markdown",
   "metadata": {
    "id": "q0BXbh36hPOu"
   },
   "source": []
  },
  {
   "cell_type": "code",
   "execution_count": 60,
   "metadata": {
    "executionInfo": {
     "elapsed": 20,
     "status": "ok",
     "timestamp": 1689082558248,
     "user": {
      "displayName": "Minjung Kwon",
      "userId": "05819400405449765661"
     },
     "user_tz": -540
    },
    "id": "b7yd0-D83ts-"
   },
   "outputs": [],
   "source": [
    "## reference : https://gmnam.tistory.com/230#:~:text=class%20BlockingTimeSeriesSplit%28%29%3A%20def%20__init__%28self%2C%20n_splits%29%3A%20self.n_splits%20%3D%20n_splits,indices%20%5Bstart%3A%20mid%5D%2C%20indices%20%5Bmid%20%2B%20margin%3A%20stop%5D\n",
    "\n",
    "\n",
    "from sklearn.model_selection import TimeSeriesSplit\n",
    "from matplotlib.patches import Patch\n",
    "import matplotlib.pyplot as plt\n",
    "\n",
    "cmap_data = plt.cm.Paired\n",
    "cmap_cv = plt.cm.coolwarm\n",
    "plt.style.use('fivethirtyeight')\n",
    "\n",
    "class BlockingTimeSeriesSplit():\n",
    "    def __init__(self, n_splits):\n",
    "        self.n_splits = n_splits\n",
    "\n",
    "    def get_n_splits(self, groups):\n",
    "        return self.n_splits\n",
    "\n",
    "    def split(self, X, y=None, groups=None):\n",
    "        n_samples = len(X)\n",
    "        k_fold_size = n_samples // self.n_splits\n",
    "        indices = np.arange(n_samples)\n",
    "\n",
    "        margin = 0\n",
    "        for i in range(self.n_splits):\n",
    "            start = i * k_fold_size\n",
    "            stop = start + k_fold_size\n",
    "            mid = int(0.8 * (stop - start)) + start\n",
    "            yield indices[start: mid], indices[mid + margin: stop]\n",
    "\n",
    "def plot_cv_indices(cv, X, n_splits, lw=10):\n",
    "\n",
    "    fig, ax = plt.subplots()\n",
    "    \"\"\"Create a sample plot for indices of a cross-validation object.\"\"\"\n",
    "\n",
    "    # Generate the training/testing visualizations for each CV split\n",
    "    for ii, (tr, tt) in enumerate(cv.split(X=X)):\n",
    "        # Fill in indices with the training/test groups\n",
    "        indices = np.array([np.nan] * len(X))\n",
    "        indices[tt] = 1\n",
    "        indices[tr] = 0\n",
    "\n",
    "        # Visualize the results\n",
    "        ax.scatter(range(len(indices)), [ii + .5] * len(indices),\n",
    "                   c=indices, marker='_', lw=lw, cmap=cmap_cv,\n",
    "                   vmin=-.2, vmax=1.2)\n",
    "\n",
    "    # Formatting\n",
    "    yticklabels = list(range(n_splits))\n",
    "    ax.set(yticks=np.arange(n_splits) + .5, yticklabels=yticklabels,\n",
    "           xlabel='Sample index', ylabel=\"CV iteration\",\n",
    "           ylim=[n_splits+0.1, -.1], xlim=[0, len(X)])\n",
    "    ax.set_title('{}'.format(type(cv).__name__), fontsize=15)\n",
    "\n",
    "    ax.legend([Patch(color=cmap_cv(.8)), Patch(color=cmap_cv(.02))],\n",
    "          ['Testing set', 'Training set'], loc=(1.02, .8))"
   ]
  },
  {
   "cell_type": "code",
   "execution_count": 61,
   "metadata": {
    "colab": {
     "base_uri": "https://localhost:8080/",
     "height": 923
    },
    "executionInfo": {
     "elapsed": 20,
     "status": "ok",
     "timestamp": 1689082558248,
     "user": {
      "displayName": "Minjung Kwon",
      "userId": "05819400405449765661"
     },
     "user_tz": -540
    },
    "id": "Ju02Oums30MJ",
    "outputId": "7997d75d-8d65-4096-d25c-cae8cacabcb3"
   },
   "outputs": [
    {
     "data": {
      "image/png": "[encoded data removed]",
      "text/plain": [
       "<Figure size 1200x1000 with 1 Axes>"
      ]
     },
     "metadata": {},
     "output_type": "display_data"
    }
   ],
   "source": [
    "test_year=8\n",
    "n_splits=3\n",
    "\n",
    "tss=BlockingTimeSeriesSplit(n_splits=n_splits)\n",
    "plot_cv_indices(tss, X_data[:-(test_year*12)], n_splits=n_splits)"
   ]
  },
  {
   "cell_type": "code",
   "execution_count": 62,
   "metadata": {
    "executionInfo": {
     "elapsed": 19,
     "status": "ok",
     "timestamp": 1689082558248,
     "user": {
      "displayName": "Minjung Kwon",
      "userId": "05819400405449765661"
     },
     "user_tz": -540
    },
    "id": "lWIfaddY4mTE"
   },
   "outputs": [],
   "source": [
    "## make index for train, validation dataset\n",
    "train_idxs=[]\n",
    "val_idxs=[]\n",
    "\n",
    "for train_idx, val_idx in tss.split(X_data[:-(test_year*12)]):\n",
    "  train_idxs.append(train_idx)\n",
    "  val_idxs.append(val_idx)\n",
    "\n",
    "# train_idxs[2], val_idxs[2]  ## train and test dataset in 5th block"
   ]
  },
  {
   "cell_type": "code",
   "execution_count": 63,
   "metadata": {
    "colab": {
     "base_uri": "https://localhost:8080/"
    },
    "executionInfo": {
     "elapsed": 19,
     "status": "ok",
     "timestamp": 1689082558248,
     "user": {
      "displayName": "Minjung Kwon",
      "userId": "05819400405449765661"
     },
     "user_tz": -540
    },
    "id": "4hBnrciM63yI",
    "outputId": "00e2617d-0ab5-42cb-fffd-57e61bbf540a"
   },
   "outputs": [
    {
     "name": "stdout",
     "output_type": "stream",
     "text": [
      "positive class in 0 validation: 71\n",
      "positive class in 1 validation: 45\n",
      "positive class in 2 validation: 44\n"
     ]
    }
   ],
   "source": [
    "## checking if validation dataset in each block contains at least one recession period.\n",
    "\n",
    "for i, idx in enumerate(train_idxs):\n",
    "  n_pos=y_data[idx].value_counts()[1]\n",
    "  print('positive class in {} validation:'.format(i), n_pos)"
   ]
  },
  {
   "cell_type": "markdown",
   "metadata": {
    "id": "uSNgdQFFFQ6u"
   },
   "source": [
    "Split the dataset into train, validation, and test sets. The validation set is used during the model fitting to evaluate the loss and any metrics, however the model is not fit with this data. The test set is completely unused during the training phase and is only used at the end to evaluate how well the model generalizes to new data. This is especially important with imbalanced datasets where [overfitting](https://developers.google.com/machine-learning/crash-course/generalization/peril-of-overfitting) is a significant concern from the lack of training data."
   ]
  },
  {
   "cell_type": "code",
   "execution_count": 64,
   "metadata": {
    "execution": {
     "iopub.execute_input": "2022-12-14T02:48:13.896383Z",
     "iopub.status.busy": "2022-12-14T02:48:13.895865Z",
     "iopub.status.idle": "2022-12-14T02:48:14.132444Z",
     "shell.execute_reply": "2022-12-14T02:48:14.131649Z"
    },
    "executionInfo": {
     "elapsed": 18,
     "status": "ok",
     "timestamp": 1689082558248,
     "user": {
      "displayName": "Minjung Kwon",
      "userId": "05819400405449765661"
     },
     "user_tz": -540
    },
    "id": "xfxhKg7Yr1-b"
   },
   "outputs": [],
   "source": [
    "# # Try the first block\n",
    "\n",
    "# X_train=X_data.iloc[list(train_idxs[0])]\n",
    "# y_train=y_data.iloc[list(train_idxs[0])]\n",
    "# X_val=X_data.iloc[list(val_idxs[0])]\n",
    "# y_val=y_data.iloc[list(val_idxs[0])]\n",
    "# X_test=X_data.iloc[-test_year*12:]\n",
    "# y_test=y_data.iloc[-test_year*12:]\n",
    "\n",
    "# train_features = np.array(X_train)\n",
    "# val_features = np.array(X_val)\n",
    "# test_features = np.array(X_test)\n",
    "\n",
    "# train_labels = np.array(y_train)\n",
    "# val_labels = np.array(y_val)\n",
    "# test_labels = np.array(y_test)"
   ]
  },
  {
   "cell_type": "code",
   "execution_count": 65,
   "metadata": {
    "executionInfo": {
     "elapsed": 19,
     "status": "ok",
     "timestamp": 1689082558249,
     "user": {
      "displayName": "Minjung Kwon",
      "userId": "05819400405449765661"
     },
     "user_tz": -540
    },
    "id": "McuM7PK1b9QO"
   },
   "outputs": [],
   "source": [
    "# for train_idx, val_idx in zip(train_idxs, val_idxs):\n",
    "#   print(train_idx, val_idx)"
   ]
  },
  {
   "cell_type": "markdown",
   "metadata": {
    "id": "8a_Z_kBmr7Oh"
   },
   "source": [
    "Normalize the input features using the sklearn StandardScaler.\n",
    "This will set the mean to 0 and standard deviation to 1.\n",
    "\n",
    "Note: The `StandardScaler` is only fit using the `train_features` to be sure the model is not peeking at the validation or test sets."
   ]
  },
  {
   "cell_type": "code",
   "execution_count": 66,
   "metadata": {
    "execution": {
     "iopub.execute_input": "2022-12-14T02:48:14.136580Z",
     "iopub.status.busy": "2022-12-14T02:48:14.136339Z",
     "iopub.status.idle": "2022-12-14T02:48:14.253244Z",
     "shell.execute_reply": "2022-12-14T02:48:14.252448Z"
    },
    "executionInfo": {
     "elapsed": 19,
     "status": "ok",
     "timestamp": 1689082558249,
     "user": {
      "displayName": "Minjung Kwon",
      "userId": "05819400405449765661"
     },
     "user_tz": -540
    },
    "id": "IO-qEUmJ5JQg"
   },
   "outputs": [],
   "source": [
    "# scaler = StandardScaler()\n",
    "# train_features = scaler.fit_transform(train_features)\n",
    "\n",
    "# val_features = scaler.transform(val_features)\n",
    "# test_features = scaler.transform(test_features)\n",
    "\n",
    "# print('Training labels shape:', train_labels.shape)\n",
    "# print('Validation labels shape:', val_labels.shape)\n",
    "# print('Test labels shape:', test_labels.shape)\n",
    "\n",
    "# print('Training features shape:', train_features.shape)\n",
    "# print('Validation features shape:', val_features.shape)\n",
    "# print('Test features shape:', test_features.shape)"
   ]
  },
  {
   "cell_type": "code",
   "execution_count": 67,
   "metadata": {
    "executionInfo": {
     "elapsed": 20,
     "status": "ok",
     "timestamp": 1689082558250,
     "user": {
      "displayName": "Minjung Kwon",
      "userId": "05819400405449765661"
     },
     "user_tz": -540
    },
    "id": "K-jhlpZGOix7"
   },
   "outputs": [],
   "source": [
    "# trainx, trainy = create_dataset(X_train, y_train, time_steps=12)\n",
    "# valx, valy = create_dataset(X_val, y_val, time_steps=12)\n",
    "# trainy=to_categorical(trainy, num_classes=2)\n",
    "# valy=to_categorical(valy, num_classes=2)\n",
    "# print(trainx.shape, trainy.shape, valx.shape, valy.shape)"
   ]
  },
  {
   "cell_type": "code",
   "execution_count": 68,
   "metadata": {
    "executionInfo": {
     "elapsed": 19,
     "status": "ok",
     "timestamp": 1689082558250,
     "user": {
      "displayName": "Minjung Kwon",
      "userId": "05819400405449765661"
     },
     "user_tz": -540
    },
    "id": "wKf8_KGEOiI5"
   },
   "outputs": [],
   "source": [
    "#trainx[:5]"
   ]
  },
  {
   "cell_type": "markdown",
   "metadata": {
    "id": "wXC1d5t47hnc"
   },
   "source": [
    "## Create temporal feature dataset for recession."
   ]
  },
  {
   "cell_type": "code",
   "execution_count": 69,
   "metadata": {
    "executionInfo": {
     "elapsed": 19,
     "status": "ok",
     "timestamp": 1689082558250,
     "user": {
      "displayName": "Minjung Kwon",
      "userId": "05819400405449765661"
     },
     "user_tz": -540
    },
    "id": "9J4yuHCB7cTu"
   },
   "outputs": [],
   "source": [
    "\n",
    "# def get_data(X, y, y_type, test_year, features):\n",
    "#     X_train=X[features][:-(test_year*12)]\n",
    "#     y_train=y[y_type][:-(test_year*12)]\n",
    "#     X_test=X[features][-(test_year*12):]\n",
    "#     y_test=y[y_type][-(test_year*12):]\n",
    "\n",
    "#     return X_train, y_train, X_test, y_test\n",
    "\n",
    "## time_step means the length(n) of explanatory variables(t-(n-1) ~ t) to use for classifying y in certain time(t) period.\n",
    "def create_dataset(X, y, time_steps=1):\n",
    "    Xs, ys = [], []\n",
    "\n",
    "    if type(Xs)==pd.core.frame.DataFrame:\n",
    "      for i in range(len(X) - time_steps):\n",
    "          v = X.iloc[i:(i + time_steps)].values\n",
    "          Xs.append(v)\n",
    "          ys.append(y.iloc[i + time_steps].values)\n",
    "          Xs=np.array(Xs)\n",
    "          ys=np.array(ys)\n",
    "\n",
    "    else:\n",
    "      for i in range(len(X) - time_steps):\n",
    "          v = X[i:(i + time_steps)]\n",
    "          Xs.append(v)\n",
    "          ys.append(y[i + time_steps])\n",
    "\n",
    "    return np.array(Xs), np.array(ys)"
   ]
  },
  {
   "cell_type": "code",
   "execution_count": 70,
   "metadata": {
    "executionInfo": {
     "elapsed": 19,
     "status": "ok",
     "timestamp": 1689082558250,
     "user": {
      "displayName": "Minjung Kwon",
      "userId": "05819400405449765661"
     },
     "user_tz": -540
    },
    "id": "AV3SVd9nej2j"
   },
   "outputs": [],
   "source": [
    "## make index for train, validation dataset\n",
    "def make_split(X_data, n_splits, test_year):\n",
    "  train_idxs=[]\n",
    "  val_idxs=[]\n",
    "\n",
    "  tss=BlockingTimeSeriesSplit(n_splits=n_splits)\n",
    "\n",
    "  for train_idx, val_idx in tss.split(X_data[:-(test_year*12)]):\n",
    "    train_idxs.append(train_idx)\n",
    "    val_idxs.append(val_idx)\n",
    "\n",
    "  return train_idxs, val_idxs\n",
    "\n"
   ]
  },
  {
   "cell_type": "code",
   "execution_count": 71,
   "metadata": {
    "executionInfo": {
     "elapsed": 19,
     "status": "ok",
     "timestamp": 1689082558250,
     "user": {
      "displayName": "Minjung Kwon",
      "userId": "05819400405449765661"
     },
     "user_tz": -540
    },
    "id": "Kaw7c7YLC3Rs"
   },
   "outputs": [],
   "source": [
    "def make_model(num_layer, X_train, nc, metrics, loss_type):\n",
    "    model = Sequential()\n",
    "    model.add(LSTM(num_layer, input_shape=(X_train.shape[1], X_train.shape[2])))  ##input_shape=(X_train.shape[1], X_train.shape[2])\n",
    "    # model.add(Dropout(0.2))\n",
    "    #model.add(Dense(2))\n",
    "    model.add(Dense(nc, activation='sigmoid'))\n",
    "    model.compile(loss=loss_type, optimizer='adam', metrics=metrics)  ##['AUC','Accuracy','Recall','Precision','F1Score']\n",
    "    return model\n"
   ]
  },
  {
   "cell_type": "code",
   "execution_count": 72,
   "metadata": {
    "executionInfo": {
     "elapsed": 20,
     "status": "ok",
     "timestamp": 1689082558251,
     "user": {
      "displayName": "Minjung Kwon",
      "userId": "05819400405449765661"
     },
     "user_tz": -540
    },
    "id": "7Jnpel8iOJRG"
   },
   "outputs": [],
   "source": [
    "# metrics=['AUC','Accuracy','Recall','Precision']\n",
    "# loss_type='binary_crossentropy'\n",
    "# nc=2\n",
    "# num_layer=10\n",
    "\n",
    "# model=make_model(num_layer, trainx, nc, metrics, loss_type)\n",
    "# type(model)\n",
    "\n",
    "# history=model.fit(trainx, trainy, epochs=10, batch_size=5)\n",
    "# scores = model.evaluate(valx, valy, verbose=0)"
   ]
  },
  {
   "cell_type": "code",
   "execution_count": 73,
   "metadata": {
    "executionInfo": {
     "elapsed": 20,
     "status": "ok",
     "timestamp": 1689082558251,
     "user": {
      "displayName": "Minjung Kwon",
      "userId": "05819400405449765661"
     },
     "user_tz": -540
    },
    "id": "yZs9zs_GRJ4f"
   },
   "outputs": [],
   "source": [
    "# train_idx=train_idxs[0]\n",
    "# val_idx=val_idxs[0]\n",
    "# time_step=18\n",
    "\n",
    "# X_train=X_data.iloc[list(train_idx)]\n",
    "# y_train=y_data.iloc[list(train_idx)]\n",
    "# X_val=X_data.iloc[list(val_idx)]\n",
    "# y_val=y_data.iloc[list(val_idx)]\n",
    "\n",
    "\n",
    "# testx = np.array(X_data.iloc[-test_year*12:])\n",
    "# testy = np.array(y_data.iloc[-test_year*12:])\n",
    "\n",
    "# ##standard scaling\n",
    "# scaler = StandardScaler()\n",
    "# trainx = scaler.fit_transform(X_train)\n",
    "# valx = scaler.transform(X_val)\n",
    "# testx = scaler.transform(testx)\n",
    "\n",
    "# ##make timestep\n",
    "# trainx, trainy = create_dataset(X_train, y_train, time_step)\n",
    "# valx, valy = create_dataset(X_val, y_val, time_step)\n",
    "# testx, testy = create_dataset(testx, testy, time_step)\n",
    "# trainy = to_categorical(y_train, num_classes=nc)\n",
    "# valy = to_categorical(y_val, num_classes=nc)\n",
    "# testy = to_categorical(testy, num_classes=nc)"
   ]
  },
  {
   "cell_type": "code",
   "execution_count": 74,
   "metadata": {
    "executionInfo": {
     "elapsed": 20,
     "status": "ok",
     "timestamp": 1689082558251,
     "user": {
      "displayName": "Minjung Kwon",
      "userId": "05819400405449765661"
     },
     "user_tz": -540
    },
    "id": "LRf7Af_0BhYS"
   },
   "outputs": [],
   "source": [
    "def grid_search(path, X_data, y_data, y_type, n_splits, test_year, metrics=['AUC','Accuracy','Recall','Precision'],\n",
    "                nl=[10, 30, 50, 100], epochs=[30,50,70,100], batch_sizes=[6], time_steps=[18,24]):\n",
    "  results = []\n",
    "  history_dict={}\n",
    "  best_auc = 0\n",
    "  best_params = None\n",
    "  nc=len(y_data.unique())\n",
    "\n",
    "  train_idxs, val_idxs = make_split(X_data, n_splits, test_year)\n",
    "\n",
    "  for time_step in time_steps:\n",
    "    loss_type = 'categorical_crossentropy'   ##if y_type == 'y_agg' else 'binary_crossentropy'\n",
    "    for num_epochs in epochs:\n",
    "      for batch_size in batch_sizes:\n",
    "        for num_layer in nl:\n",
    "\n",
    "          auc=0\n",
    "          acc=0\n",
    "          recall=0\n",
    "          precision=0\n",
    "\n",
    "          for train_idx, val_idx in zip(train_idxs, val_idxs):\n",
    "\n",
    "            X_train=X_data.iloc[list(train_idx)]\n",
    "            y_train=y_data.iloc[list(train_idx)]\n",
    "            X_val=X_data.iloc[list(val_idx)]\n",
    "            y_val=y_data.iloc[list(val_idx)]\n",
    "\n",
    "\n",
    "            X_test=X_data.iloc[-test_year*12:]\n",
    "            y_test=y_data.iloc[-test_year*12:]\n",
    "\n",
    "            ##standard scaling\n",
    "            scaler = StandardScaler()\n",
    "            X_train = scaler.fit_transform(X_train)\n",
    "            X_val = scaler.transform(X_val)\n",
    "            X_test = scaler.transform(X_test)\n",
    "\n",
    "            # print(X_train)\n",
    "            # print(X_val)\n",
    "            # print(X_test)\n",
    "\n",
    "            ##make timestep\n",
    "            trainx, trainy = create_dataset(X_train, y_train, time_step) ##(X_train, y_train, time_step)\n",
    "            valx, valy = create_dataset(X_val, y_val, time_step)   ##(X_val, y_val, time_step)\n",
    "            testx, testy = create_dataset(X_test, y_test, time_step) ##(X_test, y_test, time_step)\n",
    "            trainy = to_categorical(trainy, num_classes=nc)\n",
    "            valy = to_categorical(valy, num_classes=nc)\n",
    "            testy = to_categorical(testy, num_classes=nc)\n",
    "\n",
    "            ##assign class weight(more weight for less frequent class)\n",
    "            neg, pos = np.bincount(y_train)\n",
    "            total = neg + pos\n",
    "\n",
    "            weight_for_0 = (1 / neg) * (total / 2.0)\n",
    "            weight_for_1 = (1 / pos) * (total / 2.0)\n",
    "\n",
    "            class_weight = {0: weight_for_0, 1: weight_for_1}\n",
    "\n",
    "\n",
    "            # create the model weighted more for class 1\n",
    "            model=make_model(num_layer, trainx, nc, metrics, loss_type)\n",
    "            history=model.fit(trainx, trainy, epochs=num_epochs, batch_size=batch_size, class_weight=class_weight)\n",
    "#                  print(model.summary())\n",
    "\n",
    "            # Final evaluation of the model\n",
    "            scores = model.evaluate(valx, valy, verbose=0)\n",
    "            #print(scores)\n",
    "            auc += scores[1]\n",
    "            acc += scores[2]\n",
    "            recall += scores[3]\n",
    "            precision += scores[4]\n",
    "            #print(\"AUC: %.2f%%\" % (auc))\n",
    "\n",
    "          auc=auc/n_splits\n",
    "          acc=acc/n_splits\n",
    "          recall=recall/n_splits\n",
    "          precision=precision/n_splits\n",
    "\n",
    "          final_scores=model.evaluate(testx, testy, verbose=0)  ##test...?\n",
    "          final_auc=final_scores[1]\n",
    "          final_acc=final_scores[2]\n",
    "          final_recall=final_scores[3]\n",
    "          final_precision=final_scores[4]\n",
    "\n",
    "          model_name='clf_lstm_{}_{}_b{}_ep{}_h{}'.format(y_type, time_step, batch_size, num_epochs, num_layer)\n",
    "          model.save(path+'/model/change_test8_oecd/{}.h5'.format(model_name))\n",
    "          current_result = {'model':model_name,\n",
    "                            'auc': auc,\n",
    "                            'accuracy': acc,\n",
    "                            'recall': recall,\n",
    "                            'precision': precision,  #\"%.2f%%\" % (precision)\n",
    "                            'final_auc':final_auc,\n",
    "                            'final_acc':final_acc,\n",
    "                            'final_recall':final_recall,\n",
    "                            'final_precision':final_precision,\n",
    "                            }\n",
    "          results.append(current_result)\n",
    "\n",
    "          if auc > best_auc:\n",
    "            best_model = model_name\n",
    "            best_auc = auc\n",
    "            best_params = current_result\n",
    "\n",
    "  print(\"Best model: \", best_model)\n",
    "  return results\n"
   ]
  },
  {
   "cell_type": "code",
   "execution_count": 91,
   "metadata": {
    "colab": {
     "base_uri": "https://localhost:8080/",
     "height": 36
    },
    "executionInfo": {
     "elapsed": 5,
     "status": "ok",
     "timestamp": 1689082879827,
     "user": {
      "displayName": "Minjung Kwon",
      "userId": "05819400405449765661"
     },
     "user_tz": -540
    },
    "id": "rxmGrtViKzix",
    "outputId": "ddf57f53-ca67-45a4-8a5a-b737dab8912a"
   },
   "outputs": [
    {
     "data": {
      "application/vnd.google.colaboratory.intrinsic+json": {
       "type": "string"
      },
      "text/plain": [
       "'BSCICP02'"
      ]
     },
     "execution_count": 91,
     "metadata": {},
     "output_type": "execute_result"
    }
   ],
   "source": [
    "count = np.argwhere(np.isinf(X_data).values.sum(axis=0))[0][0]\n",
    "X_data.columns[19]"
   ]
  },
  {
   "cell_type": "code",
   "execution_count": 96,
   "metadata": {
    "colab": {
     "base_uri": "https://localhost:8080/"
    },
    "executionInfo": {
     "elapsed": 315,
     "status": "ok",
     "timestamp": 1689083679216,
     "user": {
      "displayName": "Minjung Kwon",
      "userId": "05819400405449765661"
     },
     "user_tz": -540
    },
    "id": "lZKHYJ1PMEXl",
    "outputId": "90211217-23bf-4b1d-c050-63bfa2419e92"
   },
   "outputs": [
    {
     "data": {
      "text/plain": [
       "date\n",
       "1934-01-01    NaN\n",
       "1934-02-01    NaN\n",
       "1934-03-01    NaN\n",
       "1934-04-01    NaN\n",
       "1934-05-01    NaN\n",
       "             ... \n",
       "2023-02-01   -2.6\n",
       "2023-03-01   -3.7\n",
       "2023-04-01   -2.9\n",
       "2023-05-01   -3.1\n",
       "2023-06-01   -4.0\n",
       "Name: BSCICP02, Length: 1074, dtype: float64"
      ]
     },
     "execution_count": 96,
     "metadata": {},
     "output_type": "execute_result"
    }
   ],
   "source": [
    "X['BSCICP02']"
   ]
  },
  {
   "cell_type": "code",
   "execution_count": 75,
   "metadata": {
    "colab": {
     "base_uri": "https://localhost:8080/",
     "height": 442
    },
    "executionInfo": {
     "elapsed": 20,
     "status": "error",
     "timestamp": 1689082558251,
     "user": {
      "displayName": "Minjung Kwon",
      "userId": "05819400405449765661"
     },
     "user_tz": -540
    },
    "id": "sCCvHHFmm4Fz",
    "outputId": "4afe56bf-909f-480f-c020-d259ab47a501"
   },
   "outputs": [
    {
     "name": "stderr",
     "output_type": "stream",
     "text": [
      "/usr/local/lib/python3.10/dist-packages/numpy/core/fromnumeric.py:86: RuntimeWarning: invalid value encountered in reduce\n",
      "  return ufunc.reduce(obj, axis, dtype, out, **passkwargs)\n"
     ]
    },
    {
     "ename": "ValueError",
     "evalue": "ignored",
     "output_type": "error",
     "traceback": [
      "\u001b[0;31m---------------------------------------------------------------------------\u001b[0m",
      "\u001b[0;31mValueError\u001b[0m                                Traceback (most recent call last)",
      "\u001b[0;32m<ipython-input-75-067497294f45>\u001b[0m in \u001b[0;36m<cell line: 7>\u001b[0;34m()\u001b[0m\n\u001b[1;32m      5\u001b[0m \u001b[0mtest_year\u001b[0m\u001b[0;34m=\u001b[0m\u001b[0;36m8\u001b[0m\u001b[0;34m\u001b[0m\u001b[0;34m\u001b[0m\u001b[0m\n\u001b[1;32m      6\u001b[0m \u001b[0;34m\u001b[0m\u001b[0m\n\u001b[0;32m----> 7\u001b[0;31m \u001b[0mresults\u001b[0m\u001b[0;34m=\u001b[0m\u001b[0mgrid_search\u001b[0m\u001b[0;34m(\u001b[0m\u001b[0mpath\u001b[0m\u001b[0;34m,\u001b[0m \u001b[0mX_data\u001b[0m\u001b[0;34m,\u001b[0m \u001b[0my_data\u001b[0m\u001b[0;34m,\u001b[0m \u001b[0my_type\u001b[0m\u001b[0;34m,\u001b[0m \u001b[0mn_splits\u001b[0m\u001b[0;34m,\u001b[0m \u001b[0mtest_year\u001b[0m\u001b[0;34m)\u001b[0m\u001b[0;34m\u001b[0m\u001b[0;34m\u001b[0m\u001b[0m\n\u001b[0m\u001b[1;32m      8\u001b[0m \u001b[0;34m\u001b[0m\u001b[0m\n\u001b[1;32m      9\u001b[0m \u001b[0;32mwith\u001b[0m \u001b[0mopen\u001b[0m\u001b[0;34m(\u001b[0m\u001b[0mpath\u001b[0m\u001b[0;34m+\u001b[0m\u001b[0;34m'/model/change_test8_oecd/results.pkl'\u001b[0m\u001b[0;34m,\u001b[0m \u001b[0;34m'wb'\u001b[0m\u001b[0;34m)\u001b[0m \u001b[0;32mas\u001b[0m \u001b[0mf\u001b[0m\u001b[0;34m:\u001b[0m\u001b[0;34m\u001b[0m\u001b[0;34m\u001b[0m\u001b[0m\n",
      "\u001b[0;32m<ipython-input-74-4d073b41b0e0>\u001b[0m in \u001b[0;36mgrid_search\u001b[0;34m(path, X_data, y_data, y_type, n_splits, test_year, metrics, nl, epochs, batch_sizes, time_steps)\u001b[0m\n\u001b[1;32m     34\u001b[0m             \u001b[0mscaler\u001b[0m \u001b[0;34m=\u001b[0m \u001b[0mStandardScaler\u001b[0m\u001b[0;34m(\u001b[0m\u001b[0;34m)\u001b[0m\u001b[0;34m\u001b[0m\u001b[0;34m\u001b[0m\u001b[0m\n\u001b[1;32m     35\u001b[0m             \u001b[0mX_train\u001b[0m \u001b[0;34m=\u001b[0m \u001b[0mscaler\u001b[0m\u001b[0;34m.\u001b[0m\u001b[0mfit_transform\u001b[0m\u001b[0;34m(\u001b[0m\u001b[0mX_train\u001b[0m\u001b[0;34m)\u001b[0m\u001b[0;34m\u001b[0m\u001b[0;34m\u001b[0m\u001b[0m\n\u001b[0;32m---> 36\u001b[0;31m             \u001b[0mX_val\u001b[0m \u001b[0;34m=\u001b[0m \u001b[0mscaler\u001b[0m\u001b[0;34m.\u001b[0m\u001b[0mtransform\u001b[0m\u001b[0;34m(\u001b[0m\u001b[0mX_val\u001b[0m\u001b[0;34m)\u001b[0m\u001b[0;34m\u001b[0m\u001b[0;34m\u001b[0m\u001b[0m\n\u001b[0m\u001b[1;32m     37\u001b[0m             \u001b[0mX_test\u001b[0m \u001b[0;34m=\u001b[0m \u001b[0mscaler\u001b[0m\u001b[0;34m.\u001b[0m\u001b[0mtransform\u001b[0m\u001b[0;34m(\u001b[0m\u001b[0mX_test\u001b[0m\u001b[0;34m)\u001b[0m\u001b[0;34m\u001b[0m\u001b[0;34m\u001b[0m\u001b[0m\n\u001b[1;32m     38\u001b[0m \u001b[0;34m\u001b[0m\u001b[0m\n",
      "\u001b[0;32m/usr/local/lib/python3.10/dist-packages/sklearn/utils/_set_output.py\u001b[0m in \u001b[0;36mwrapped\u001b[0;34m(self, X, *args, **kwargs)\u001b[0m\n\u001b[1;32m    138\u001b[0m     \u001b[0;34m@\u001b[0m\u001b[0mwraps\u001b[0m\u001b[0;34m(\u001b[0m\u001b[0mf\u001b[0m\u001b[0;34m)\u001b[0m\u001b[0;34m\u001b[0m\u001b[0;34m\u001b[0m\u001b[0m\n\u001b[1;32m    139\u001b[0m     \u001b[0;32mdef\u001b[0m \u001b[0mwrapped\u001b[0m\u001b[0;34m(\u001b[0m\u001b[0mself\u001b[0m\u001b[0;34m,\u001b[0m \u001b[0mX\u001b[0m\u001b[0;34m,\u001b[0m \u001b[0;34m*\u001b[0m\u001b[0margs\u001b[0m\u001b[0;34m,\u001b[0m \u001b[0;34m**\u001b[0m\u001b[0mkwargs\u001b[0m\u001b[0;34m)\u001b[0m\u001b[0;34m:\u001b[0m\u001b[0;34m\u001b[0m\u001b[0;34m\u001b[0m\u001b[0m\n\u001b[0;32m--> 140\u001b[0;31m         \u001b[0mdata_to_wrap\u001b[0m \u001b[0;34m=\u001b[0m \u001b[0mf\u001b[0m\u001b[0;34m(\u001b[0m\u001b[0mself\u001b[0m\u001b[0;34m,\u001b[0m \u001b[0mX\u001b[0m\u001b[0;34m,\u001b[0m \u001b[0;34m*\u001b[0m\u001b[0margs\u001b[0m\u001b[0;34m,\u001b[0m \u001b[0;34m**\u001b[0m\u001b[0mkwargs\u001b[0m\u001b[0;34m)\u001b[0m\u001b[0;34m\u001b[0m\u001b[0;34m\u001b[0m\u001b[0m\n\u001b[0m\u001b[1;32m    141\u001b[0m         \u001b[0;32mif\u001b[0m \u001b[0misinstance\u001b[0m\u001b[0;34m(\u001b[0m\u001b[0mdata_to_wrap\u001b[0m\u001b[0;34m,\u001b[0m \u001b[0mtuple\u001b[0m\u001b[0;34m)\u001b[0m\u001b[0;34m:\u001b[0m\u001b[0;34m\u001b[0m\u001b[0;34m\u001b[0m\u001b[0m\n\u001b[1;32m    142\u001b[0m             \u001b[0;31m# only wrap the first output for cross decomposition\u001b[0m\u001b[0;34m\u001b[0m\u001b[0;34m\u001b[0m\u001b[0m\n",
      "\u001b[0;32m/usr/local/lib/python3.10/dist-packages/sklearn/preprocessing/_data.py\u001b[0m in \u001b[0;36mtransform\u001b[0;34m(self, X, copy)\u001b[0m\n\u001b[1;32m    990\u001b[0m \u001b[0;34m\u001b[0m\u001b[0m\n\u001b[1;32m    991\u001b[0m         \u001b[0mcopy\u001b[0m \u001b[0;34m=\u001b[0m \u001b[0mcopy\u001b[0m \u001b[0;32mif\u001b[0m \u001b[0mcopy\u001b[0m \u001b[0;32mis\u001b[0m \u001b[0;32mnot\u001b[0m \u001b[0;32mNone\u001b[0m \u001b[0;32melse\u001b[0m \u001b[0mself\u001b[0m\u001b[0;34m.\u001b[0m\u001b[0mcopy\u001b[0m\u001b[0;34m\u001b[0m\u001b[0;34m\u001b[0m\u001b[0m\n\u001b[0;32m--> 992\u001b[0;31m         X = self._validate_data(\n\u001b[0m\u001b[1;32m    993\u001b[0m             \u001b[0mX\u001b[0m\u001b[0;34m,\u001b[0m\u001b[0;34m\u001b[0m\u001b[0;34m\u001b[0m\u001b[0m\n\u001b[1;32m    994\u001b[0m             \u001b[0mreset\u001b[0m\u001b[0;34m=\u001b[0m\u001b[0;32mFalse\u001b[0m\u001b[0;34m,\u001b[0m\u001b[0;34m\u001b[0m\u001b[0;34m\u001b[0m\u001b[0m\n",
      "\u001b[0;32m/usr/local/lib/python3.10/dist-packages/sklearn/base.py\u001b[0m in \u001b[0;36m_validate_data\u001b[0;34m(self, X, y, reset, validate_separately, **check_params)\u001b[0m\n\u001b[1;32m    563\u001b[0m             \u001b[0;32mraise\u001b[0m \u001b[0mValueError\u001b[0m\u001b[0;34m(\u001b[0m\u001b[0;34m\"Validation should be done on X, y or both.\"\u001b[0m\u001b[0;34m)\u001b[0m\u001b[0;34m\u001b[0m\u001b[0;34m\u001b[0m\u001b[0m\n\u001b[1;32m    564\u001b[0m         \u001b[0;32melif\u001b[0m \u001b[0;32mnot\u001b[0m \u001b[0mno_val_X\u001b[0m \u001b[0;32mand\u001b[0m \u001b[0mno_val_y\u001b[0m\u001b[0;34m:\u001b[0m\u001b[0;34m\u001b[0m\u001b[0;34m\u001b[0m\u001b[0m\n\u001b[0;32m--> 565\u001b[0;31m             \u001b[0mX\u001b[0m \u001b[0;34m=\u001b[0m \u001b[0mcheck_array\u001b[0m\u001b[0;34m(\u001b[0m\u001b[0mX\u001b[0m\u001b[0;34m,\u001b[0m \u001b[0minput_name\u001b[0m\u001b[0;34m=\u001b[0m\u001b[0;34m\"X\"\u001b[0m\u001b[0;34m,\u001b[0m \u001b[0;34m**\u001b[0m\u001b[0mcheck_params\u001b[0m\u001b[0;34m)\u001b[0m\u001b[0;34m\u001b[0m\u001b[0;34m\u001b[0m\u001b[0m\n\u001b[0m\u001b[1;32m    566\u001b[0m             \u001b[0mout\u001b[0m \u001b[0;34m=\u001b[0m \u001b[0mX\u001b[0m\u001b[0;34m\u001b[0m\u001b[0;34m\u001b[0m\u001b[0m\n\u001b[1;32m    567\u001b[0m         \u001b[0;32melif\u001b[0m \u001b[0mno_val_X\u001b[0m \u001b[0;32mand\u001b[0m \u001b[0;32mnot\u001b[0m \u001b[0mno_val_y\u001b[0m\u001b[0;34m:\u001b[0m\u001b[0;34m\u001b[0m\u001b[0;34m\u001b[0m\u001b[0m\n",
      "\u001b[0;32m/usr/local/lib/python3.10/dist-packages/sklearn/utils/validation.py\u001b[0m in \u001b[0;36mcheck_array\u001b[0;34m(array, accept_sparse, accept_large_sparse, dtype, order, copy, force_all_finite, ensure_2d, allow_nd, ensure_min_samples, ensure_min_features, estimator, input_name)\u001b[0m\n\u001b[1;32m    919\u001b[0m \u001b[0;34m\u001b[0m\u001b[0m\n\u001b[1;32m    920\u001b[0m         \u001b[0;32mif\u001b[0m \u001b[0mforce_all_finite\u001b[0m\u001b[0;34m:\u001b[0m\u001b[0;34m\u001b[0m\u001b[0;34m\u001b[0m\u001b[0m\n\u001b[0;32m--> 921\u001b[0;31m             _assert_all_finite(\n\u001b[0m\u001b[1;32m    922\u001b[0m                 \u001b[0marray\u001b[0m\u001b[0;34m,\u001b[0m\u001b[0;34m\u001b[0m\u001b[0;34m\u001b[0m\u001b[0m\n\u001b[1;32m    923\u001b[0m                 \u001b[0minput_name\u001b[0m\u001b[0;34m=\u001b[0m\u001b[0minput_name\u001b[0m\u001b[0;34m,\u001b[0m\u001b[0;34m\u001b[0m\u001b[0;34m\u001b[0m\u001b[0m\n",
      "\u001b[0;32m/usr/local/lib/python3.10/dist-packages/sklearn/utils/validation.py\u001b[0m in \u001b[0;36m_assert_all_finite\u001b[0;34m(X, allow_nan, msg_dtype, estimator_name, input_name)\u001b[0m\n\u001b[1;32m    159\u001b[0m                 \u001b[0;34m\"#estimators-that-handle-nan-values\"\u001b[0m\u001b[0;34m\u001b[0m\u001b[0;34m\u001b[0m\u001b[0m\n\u001b[1;32m    160\u001b[0m             )\n\u001b[0;32m--> 161\u001b[0;31m         \u001b[0;32mraise\u001b[0m \u001b[0mValueError\u001b[0m\u001b[0;34m(\u001b[0m\u001b[0mmsg_err\u001b[0m\u001b[0;34m)\u001b[0m\u001b[0;34m\u001b[0m\u001b[0;34m\u001b[0m\u001b[0m\n\u001b[0m\u001b[1;32m    162\u001b[0m \u001b[0;34m\u001b[0m\u001b[0m\n\u001b[1;32m    163\u001b[0m \u001b[0;34m\u001b[0m\u001b[0m\n",
      "\u001b[0;31mValueError\u001b[0m: Input X contains infinity or a value too large for dtype('float64')."
     ]
    }
   ],
   "source": [
    "######################run this cell only for training whole models####################################\n",
    "\n",
    "y_type='y_oecd'\n",
    "n_splits=3\n",
    "test_year=8\n",
    "\n",
    "results=grid_search(path, X_data, y_data, y_type, n_splits, test_year)\n",
    "\n",
    "with open(path+'/model/change_test8_oecd/results.pkl', 'wb') as f:\n",
    "  pickle.dump(results, f)\n",
    "\n",
    "with open(path+'/model/change_test8_oecd/results.pkl','rb') as f:\n",
    "  results=pickle.load(f)\n",
    "\n",
    "# results=grid_search(path, X_data, y_data, y_type, n_splits, test_year,\n",
    "#                     nl=[10], epochs=[30], batch_sizes=[6], time_steps=[12])\n"
   ]
  },
  {
   "cell_type": "code",
   "execution_count": null,
   "metadata": {
    "executionInfo": {
     "elapsed": 18,
     "status": "aborted",
     "timestamp": 1689082558252,
     "user": {
      "displayName": "Minjung Kwon",
      "userId": "05819400405449765661"
     },
     "user_tz": -540
    },
    "id": "TtvcvVHavcV9"
   },
   "outputs": [],
   "source": [
    "with open(path+'/model/change_test8_oecd/results.pkl','rb') as f:\n",
    "  results=pickle.load(f)\n",
    "\n",
    "df_result=pd.DataFrame(results)\n",
    "\n",
    "## model selection: according to cross validation recall, auc scores\n",
    "df_result.sort_values(['recall','auc'], ascending=[False, False])"
   ]
  },
  {
   "cell_type": "code",
   "execution_count": null,
   "metadata": {
    "executionInfo": {
     "elapsed": 18,
     "status": "aborted",
     "timestamp": 1689082558252,
     "user": {
      "displayName": "Minjung Kwon",
      "userId": "05819400405449765661"
     },
     "user_tz": -540
    },
    "id": "8NSVOfpd0GwX"
   },
   "outputs": [],
   "source": [
    "with open(path+'/model/change_test8_oecd/X_data.pkl', 'wb') as f:\n",
    "  pickle.dump(X_data, f)\n",
    "\n",
    "with open(path+'/model/change_test8_oecd/y_data.pkl', 'wb') as f:\n",
    "  pickle.dump(y_data, f)\n",
    "\n",
    "with open(path+'/model/change_test8_oecd/selected_features.pkl', 'wb') as f:\n",
    "  pickle.dump(selected_features, f)\n",
    "\n",
    "with open(path+'/model/change_test8_oecd/imputing_features.pkl', 'wb') as f:\n",
    "  pickle.dump(imputing_varlist, f)"
   ]
  },
  {
   "cell_type": "markdown",
   "metadata": {
    "id": "C1KGxNPRHGPX"
   },
   "source": [
    "## SHAP analysis"
   ]
  },
  {
   "cell_type": "markdown",
   "metadata": {
    "id": "SU0GX6E6mieP"
   },
   "source": [
    "### Understanding useful metrics\n",
    "\n",
    "Notice that there are a few metrics defined above that can be computed by the model that will be helpful when evaluating the performance.\n",
    "\n",
    "\n",
    "\n",
    "*   **False** negatives and **false** positives are samples that were **incorrectly** classified\n",
    "*   **True** negatives and **true** positives are samples that were **correctly** classified\n",
    "*   **Accuracy** is the percentage of examples correctly classified\n",
    ">   $\\frac{\\text{true samples}}{\\text{total samples}}$\n",
    "*   **Precision** is the percentage of **predicted** positives that were correctly classified\n",
    ">   $\\frac{\\text{true positives}}{\\text{true positives + false positives}}$\n",
    "*   **Recall** is the percentage of **actual** positives that were correctly classified\n",
    ">   $\\frac{\\text{true positives}}{\\text{true positives + false negatives}}$\n",
    "*   **AUC** refers to the Area Under the Curve of a Receiver Operating Characteristic curve (ROC-AUC). This metric is equal to the probability that a classifier will rank a random positive sample higher than a random negative sample.\n",
    "*   **AUPRC** refers to Area Under the Curve of the Precision-Recall Curve. This metric computes precision-recall pairs for different probability thresholds.\n",
    "\n",
    "Note: Accuracy is not a helpful metric for this task. You can have 99.8%+ accuracy on this task by predicting False all the time.  \n",
    "\n",
    "Read more:\n",
    "*  [True vs. False and Positive vs. Negative](https://developers.google.com/machine-learning/crash-course/classification/true-false-positive-negative)\n",
    "*  [Accuracy](https://developers.google.com/machine-learning/crash-course/classification/accuracy)\n",
    "*   [Precision and Recall](https://developers.google.com/machine-learning/crash-course/classification/precision-and-recall)\n",
    "*   [ROC-AUC](https://developers.google.com/machine-learning/crash-course/classification/roc-and-auc)\n",
    "*   [Relationship between Precision-Recall and ROC Curves](https://www.biostat.wisc.edu/~page/rocpr.pdf)"
   ]
  },
  {
   "cell_type": "markdown",
   "metadata": {
    "id": "iEHKHcU6prOH"
   },
   "source": [
    "## Build Model with weighting cost for class"
   ]
  },
  {
   "cell_type": "code",
   "execution_count": null,
   "metadata": {
    "executionInfo": {
     "elapsed": 18,
     "status": "aborted",
     "timestamp": 1689082558252,
     "user": {
      "displayName": "Minjung Kwon",
      "userId": "05819400405449765661"
     },
     "user_tz": -540
    },
    "id": "eEwnhQmkDRxF"
   },
   "outputs": [],
   "source": [
    "# Scaling by total/2 helps keep the loss to a similar magnitude.\n",
    "# The sum of the weights of all examples stays the same.\n",
    "neg, pos = np.bincount(raw_df['y_oecd'])\n",
    "total = neg + pos\n",
    "\n",
    "weight_for_0 = (1 / neg) * (total / 2.0)\n",
    "weight_for_1 = (1 / pos) * (total / 2.0)\n",
    "\n",
    "class_weight = {0: weight_for_0, 1: weight_for_1}\n",
    "\n",
    "print('Weight for class 0: {:.2f}'.format(weight_for_0))\n",
    "print('Weight for class 1: {:.2f}'.format(weight_for_1))\n",
    "\n",
    "## train weighted model\n",
    "weighted_model = make_model()\n",
    "##weighted_model.load_weights(initial_weights)\n",
    "\n",
    "weighted_history = weighted_model.fit(\n",
    "    train_features,\n",
    "    train_labels,\n",
    "    batch_size=BATCH_SIZE,\n",
    "    epochs=EPOCHS,\n",
    "    callbacks=[early_stopping],\n",
    "    validation_data=(val_features, val_labels),\n",
    "    # The class weights go here\n",
    "    class_weight=class_weight)\n"
   ]
  },
  {
   "cell_type": "code",
   "execution_count": null,
   "metadata": {
    "executionInfo": {
     "elapsed": 18,
     "status": "aborted",
     "timestamp": 1689082558252,
     "user": {
      "displayName": "Minjung Kwon",
      "userId": "05819400405449765661"
     },
     "user_tz": -540
    },
    "id": "L33ScHBlpqED"
   },
   "outputs": [],
   "source": [
    "# Scaling by total/2 helps keep the loss to a similar magnitude.\n",
    "# The sum of the weights of all examples stays the same.\n",
    "neg, pos = np.bincount(trainy)\n",
    "total = neg + pos\n",
    "\n",
    "weight_for_0 = (1 / neg) * (total / 2.0)\n",
    "weight_for_1 = (1 / pos) * (total / 2.0)\n",
    "\n",
    "class_weight = {0: weight_for_0, 1: weight_for_1}\n",
    "\n",
    "print('Weight for class 0: {:.2f}'.format(weight_for_0))\n",
    "print('Weight for class 1: {:.2f}'.format(weight_for_1))\n",
    "\n",
    "## train weighted model\n",
    "weighted_model = make_model()\n",
    "##weighted_model.load_weights(initial_weights)\n",
    "\n",
    "weighted_history = weighted_model.fit(\n",
    "    train_features,\n",
    "    train_labels,\n",
    "    batch_size=BATCH_SIZE,\n",
    "    epochs=EPOCHS,\n",
    "    callbacks=[early_stopping],\n",
    "    validation_data=(val_features, val_labels),\n",
    "    # The class weights go here\n",
    "    class_weight=class_weight)\n"
   ]
  },
  {
   "cell_type": "code",
   "execution_count": null,
   "metadata": {
    "executionInfo": {
     "elapsed": 18,
     "status": "aborted",
     "timestamp": 1689082558252,
     "user": {
      "displayName": "Minjung Kwon",
      "userId": "05819400405449765661"
     },
     "user_tz": -540
    },
    "id": "XZKQoGe7pwru"
   },
   "outputs": [],
   "source": [
    "def plot_metrics(history):\n",
    "  metrics = ['loss', 'prc', 'precision', 'recall']\n",
    "  for n, metric in enumerate(metrics):\n",
    "    name = metric.replace(\"_\",\" \").capitalize()\n",
    "    plt.subplot(2,2,n+1)\n",
    "    plt.plot(history.epoch, history.history[metric], color=colors[0], label='Train')\n",
    "    plt.plot(history.epoch, history.history['val_'+metric],\n",
    "             color=colors[0], linestyle=\"--\", label='Val')\n",
    "    plt.xlabel('Epoch')\n",
    "    plt.ylabel(name)\n",
    "    if metric == 'loss':\n",
    "      plt.ylim([0, plt.ylim()[1]])\n",
    "    elif metric == 'auc':\n",
    "      plt.ylim([0.8,1])\n",
    "    else:\n",
    "      plt.ylim([0,1])\n",
    "\n",
    "    plt.legend()"
   ]
  },
  {
   "cell_type": "code",
   "execution_count": null,
   "metadata": {
    "executionInfo": {
     "elapsed": 19,
     "status": "aborted",
     "timestamp": 1689082558253,
     "user": {
      "displayName": "Minjung Kwon",
      "userId": "05819400405449765661"
     },
     "user_tz": -540
    },
    "id": "dL1LBc-6pw0-"
   },
   "outputs": [],
   "source": [
    "plot_metrics(weighted_history)"
   ]
  },
  {
   "cell_type": "code",
   "execution_count": null,
   "metadata": {
    "executionInfo": {
     "elapsed": 19,
     "status": "aborted",
     "timestamp": 1689082558253,
     "user": {
      "displayName": "Minjung Kwon",
      "userId": "05819400405449765661"
     },
     "user_tz": -540
    },
    "id": "Bsug2ynIpw6f"
   },
   "outputs": [],
   "source": [
    "train_predictions_baseline = model.predict(train_features, batch_size=BATCH_SIZE)\n",
    "test_predictions_baseline = model.predict(test_features, batch_size=BATCH_SIZE)"
   ]
  },
  {
   "cell_type": "code",
   "execution_count": null,
   "metadata": {
    "executionInfo": {
     "elapsed": 19,
     "status": "aborted",
     "timestamp": 1689082558253,
     "user": {
      "displayName": "Minjung Kwon",
      "userId": "05819400405449765661"
     },
     "user_tz": -540
    },
    "id": "ydLcBJeKqYSG"
   },
   "outputs": [],
   "source": [
    "def plot_cm(labels, predictions, p=0.5):\n",
    "  cm = confusion_matrix(labels, predictions > p)\n",
    "  plt.figure(figsize=(5,5))\n",
    "  sns.heatmap(cm, annot=True, fmt=\"d\")\n",
    "  plt.title('Confusion matrix @{:.2f}'.format(p))\n",
    "  plt.ylabel('Actual label')\n",
    "  plt.xlabel('Predicted label')\n",
    "\n",
    "  print('Legitimate Transactions Detected (True Negatives): ', cm[0][0])\n",
    "  print('Legitimate Transactions Incorrectly Detected (False Positives): ', cm[0][1])\n",
    "  print('Fraudulent Transactions Missed (False Negatives): ', cm[1][0])\n",
    "  print('Fraudulent Transactions Detected (True Positives): ', cm[1][1])\n",
    "  print('Total Fraudulent Transactions: ', np.sum(cm[1]))"
   ]
  },
  {
   "cell_type": "code",
   "execution_count": null,
   "metadata": {
    "executionInfo": {
     "elapsed": 18,
     "status": "aborted",
     "timestamp": 1689082558253,
     "user": {
      "displayName": "Minjung Kwon",
      "userId": "05819400405449765661"
     },
     "user_tz": -540
    },
    "id": "EuRnmCUIqYVY"
   },
   "outputs": [],
   "source": [
    "results = model.evaluate(test_features, test_labels,\n",
    "                                  batch_size=BATCH_SIZE, verbose=0)\n",
    "for name, value in zip(model.metrics_names, results):\n",
    "  print(name, ': ', value)\n",
    "print()\n",
    "\n",
    "plot_cm(test_labels, test_predictions_baseline)"
   ]
  },
  {
   "cell_type": "code",
   "execution_count": null,
   "metadata": {
    "executionInfo": {
     "elapsed": 18,
     "status": "aborted",
     "timestamp": 1689082558253,
     "user": {
      "displayName": "Minjung Kwon",
      "userId": "05819400405449765661"
     },
     "user_tz": -540
    },
    "id": "ezBAaMxOqYYP"
   },
   "outputs": [],
   "source": [
    "def plot_roc(name, labels, predictions, **kwargs):\n",
    "  fp, tp, _ = sklearn.metrics.roc_curve(labels, predictions)\n",
    "\n",
    "  plt.plot(100*fp, 100*tp, label=name, linewidth=2, **kwargs)\n",
    "  plt.xlabel('False positives [%]')\n",
    "  plt.ylabel('True positives [%]')\n",
    "  plt.xlim([-0.5,20])\n",
    "  plt.ylim([80,100.5])\n",
    "  plt.grid(True)\n",
    "  ax = plt.gca()\n",
    "  ax.set_aspect('equal')"
   ]
  },
  {
   "cell_type": "code",
   "execution_count": null,
   "metadata": {
    "executionInfo": {
     "elapsed": 5530,
     "status": "aborted",
     "timestamp": 1689082558254,
     "user": {
      "displayName": "Minjung Kwon",
      "userId": "05819400405449765661"
     },
     "user_tz": -540
    },
    "id": "tUesd05vqYav"
   },
   "outputs": [],
   "source": [
    "plot_roc(\"Train Baseline\", train_labels, train_predictions_baseline, color=colors[0])\n",
    "plot_roc(\"Test Baseline\", test_labels, test_predictions_baseline, color=colors[0], linestyle='--')\n",
    "plt.legend(loc='lower right');"
   ]
  },
  {
   "cell_type": "code",
   "execution_count": null,
   "metadata": {
    "executionInfo": {
     "elapsed": 5529,
     "status": "aborted",
     "timestamp": 1689082558254,
     "user": {
      "displayName": "Minjung Kwon",
      "userId": "05819400405449765661"
     },
     "user_tz": -540
    },
    "id": "1ewOJJFvqnFI"
   },
   "outputs": [],
   "source": [
    "def plot_prc(name, labels, predictions, **kwargs):\n",
    "    precision, recall, _ = sklearn.metrics.precision_recall_curve(labels, predictions)\n",
    "\n",
    "    plt.plot(precision, recall, label=name, linewidth=2, **kwargs)\n",
    "    plt.xlabel('Precision')\n",
    "    plt.ylabel('Recall')\n",
    "    plt.grid(True)\n",
    "    ax = plt.gca()\n",
    "    ax.set_aspect('equal')"
   ]
  },
  {
   "cell_type": "code",
   "execution_count": null,
   "metadata": {
    "executionInfo": {
     "elapsed": 5528,
     "status": "aborted",
     "timestamp": 1689082558254,
     "user": {
      "displayName": "Minjung Kwon",
      "userId": "05819400405449765661"
     },
     "user_tz": -540
    },
    "id": "_YKZzCnXqo0J"
   },
   "outputs": [],
   "source": [
    "plot_prc(\"Train Baseline\", train_labels, train_predictions_baseline, color=colors[0])\n",
    "plot_prc(\"Test Baseline\", test_labels, test_predictions_baseline, color=colors[0], linestyle='--')\n",
    "plt.legend(loc='lower right');"
   ]
  }
 ],
 "metadata": {
  "accelerator": "GPU",
  "colab": {
   "gpuType": "T4",
   "provenance": [
    {
     "file_id": "16ibaABqj8xTkOVllLxKrVMS1C8vWsJ6x",
     "timestamp": 1689036607573
    }
   ]
  },
  "hide_input": false,
  "kernelspec": {
   "display_name": "Python 3 (ipykernel)",
   "language": "python",
   "name": "python3"
  },
  "language_info": {
   "codemirror_mode": {
    "name": "ipython",
    "version": 3
   },
   "file_extension": ".py",
   "mimetype": "text/x-python",
   "name": "python",
   "nbconvert_exporter": "python",
   "pygments_lexer": "ipython3",
   "version": "3.9.12"
  },
  "toc": {
   "base_numbering": 1,
   "nav_menu": {},
   "number_sections": true,
   "sideBar": true,
   "skip_h1_title": false,
   "title_cell": "Table of Contents",
   "title_sidebar": "Contents",
   "toc_cell": false,
   "toc_position": {},
   "toc_section_display": true,
   "toc_window_display": false
  }
 },
 "nbformat": 4,
 "nbformat_minor": 1
}
